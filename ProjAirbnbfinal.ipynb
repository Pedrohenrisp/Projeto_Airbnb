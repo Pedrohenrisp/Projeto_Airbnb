{
  "nbformat": 4,
  "nbformat_minor": 0,
  "metadata": {
    "colab": {
      "provenance": []
    },
    "kernelspec": {
      "name": "python3",
      "display_name": "Python 3"
    },
    "language_info": {
      "name": "python"
    }
  },
  "cells": [
    {
      "cell_type": "markdown",
      "source": [
        "# Projeto Final Machine Learning\n",
        "\n",
        "Este trabalho é referente a disciplina Machine Learning lecionada pelo Prof. Edson Cilos da Universidade Federal de Santa Catarina\n",
        "\n",
        "Neste projeto iremos utilizar modelos de machine learning para prever preços de Airbnb nos Estados Unidos. Para isso iremos começar importanto as bibliotecas necessárias e os dados."
      ],
      "metadata": {
        "id": "h_PBLPVT_eHx"
      }
    },
    {
      "cell_type": "code",
      "execution_count": 3,
      "metadata": {
        "id": "MwLB51W23fBA"
      },
      "outputs": [],
      "source": [
        "import os\n",
        "import json\n",
        "import requests\n",
        "import re\n",
        "import numpy as np\n",
        "import pandas as pd\n",
        "\n",
        "from sklearn.model_selection import train_test_split\n",
        "from sklearn.tree import DecisionTreeRegressor\n",
        "from sklearn.ensemble import RandomForestRegressor\n",
        "from sklearn.linear_model import LinearRegression\n",
        "from sklearn.preprocessing import MinMaxScaler\n",
        "from sklearn.metrics import mean_squared_error as MSE\n",
        "from sklearn.model_selection import cross_val_score\n",
        "from sklearn.model_selection import GridSearchCV\n",
        "\n",
        "%matplotlib inline\n",
        "import matplotlib as mpl\n",
        "import matplotlib.pyplot as plt\n",
        "import seaborn as sns\n",
        "\n",
        "mpl.rc('axes', labelsize=14)\n",
        "mpl.rc('xtick', labelsize=12)\n",
        "mpl.rc('ytick', labelsize=12)\n",
        "\n",
        "import warnings\n",
        "warnings.filterwarnings(action=\"ignore\", message=\"^internal gelsd\")"
      ]
    },
    {
      "cell_type": "code",
      "source": [
        "url = 'https://drive.google.com/uc?export=download&id=11y5YttDreRfx-jHjOoT1rxs6HW6HKPqU'\n",
        "\n",
        "# Read the CSV file directly into a DataFrame\n",
        "Airbnb = pd.read_csv(url, low_memory=False)"
      ],
      "metadata": {
        "id": "CfM7bCgy3gou"
      },
      "execution_count": 4,
      "outputs": []
    },
    {
      "cell_type": "markdown",
      "source": [
        "Podemos conhecer melhor os dados utilizando os comandos"
      ],
      "metadata": {
        "id": "Ikthk7mnCBkS"
      }
    },
    {
      "cell_type": "code",
      "source": [
        "Airbnb.info()"
      ],
      "metadata": {
        "colab": {
          "base_uri": "https://localhost:8080/"
        },
        "id": "Xy9ndfN84Cjf",
        "outputId": "9b73bd07-ea58-4599-90eb-aeeafb545edb"
      },
      "execution_count": null,
      "outputs": [
        {
          "output_type": "stream",
          "name": "stdout",
          "text": [
            "<class 'pandas.core.frame.DataFrame'>\n",
            "RangeIndex: 226030 entries, 0 to 226029\n",
            "Data columns (total 17 columns):\n",
            " #   Column                          Non-Null Count   Dtype  \n",
            "---  ------                          --------------   -----  \n",
            " 0   id                              226030 non-null  int64  \n",
            " 1   name                            226002 non-null  object \n",
            " 2   host_id                         226030 non-null  int64  \n",
            " 3   host_name                       225997 non-null  object \n",
            " 4   neighbourhood_group             110185 non-null  object \n",
            " 5   neighbourhood                   226030 non-null  object \n",
            " 6   latitude                        226030 non-null  float64\n",
            " 7   longitude                       226030 non-null  float64\n",
            " 8   room_type                       226030 non-null  object \n",
            " 9   price                           226030 non-null  int64  \n",
            " 10  minimum_nights                  226030 non-null  int64  \n",
            " 11  number_of_reviews               226030 non-null  int64  \n",
            " 12  last_review                     177428 non-null  object \n",
            " 13  reviews_per_month               177428 non-null  float64\n",
            " 14  calculated_host_listings_count  226030 non-null  int64  \n",
            " 15  availability_365                226030 non-null  int64  \n",
            " 16  city                            226030 non-null  object \n",
            "dtypes: float64(3), int64(7), object(7)\n",
            "memory usage: 29.3+ MB\n"
          ]
        }
      ]
    },
    {
      "cell_type": "code",
      "source": [
        "seed = 42\n",
        "np.random.seed(seed)\n",
        "Airbnb.sample(n = 5, random_state = seed)"
      ],
      "metadata": {
        "id": "mpR6GlHzJOJ2",
        "colab": {
          "base_uri": "https://localhost:8080/",
          "height": 573
        },
        "outputId": "584b0574-4c8e-47ff-a359-ed833834a5a6"
      },
      "execution_count": 5,
      "outputs": [
        {
          "output_type": "execute_result",
          "data": {
            "text/plain": [
              "              id                                               name  \\\n",
              "182851   6123863  Stylish Remodeled House with Deck, Steps to Di...   \n",
              "46603   33341740  Lux420, Rftop deck, Hot tub, Elvtr in ‚ù§Ô∏è o...   \n",
              "18675   21784725        LARGE POOL HOUSE IN HOLLYWOOD NEW POOL DECK   \n",
              "90901   30562982     Modern 2 BR House in Hollywood, Keyless Entry!   \n",
              "25085   41833198  New Renovated House - Hard Rock / Hollywood Beach   \n",
              "\n",
              "          host_id host_name  neighbourhood_group            neighbourhood  \\\n",
              "182851    9072515   Jessica                  NaN  West University Heights   \n",
              "46603   111000374      Elma                  NaN              Five Points   \n",
              "18675   158736535     Euseb                  NaN                Hollywood   \n",
              "90901   134940933  Jonathan  City of Los Angeles          Hollywood Hills   \n",
              "25085   120149672    Yaseen                  NaN                Hollywood   \n",
              "\n",
              "        latitude  longitude        room_type  price  minimum_nights  \\\n",
              "182851  32.75992 -117.14292  Entire home/apt    215               2   \n",
              "46603   39.75436 -104.98469  Entire home/apt    599              30   \n",
              "18675   26.01600  -80.23088  Entire home/apt    214               2   \n",
              "90901   34.11915 -118.32028  Entire home/apt    290              30   \n",
              "25085   26.01587  -80.23007  Entire home/apt    250               2   \n",
              "\n",
              "        number_of_reviews last_review  reviews_per_month  \\\n",
              "182851                 28    12/07/20               0.44   \n",
              "46603                  35    29/12/19               2.42   \n",
              "18675                  10    17/02/20               0.36   \n",
              "90901                   0         NaN                NaN   \n",
              "25085                  10    28/04/20               2.16   \n",
              "\n",
              "        calculated_host_listings_count  availability_365            city  \n",
              "182851                               1               300       San Diego  \n",
              "46603                                3               362          Denver  \n",
              "18675                                1               331  Broward County  \n",
              "90901                                1                 0     Los Angeles  \n",
              "25085                                1                15  Broward County  "
            ],
            "text/html": [
              "\n",
              "  <div id=\"df-be343410-fbfc-41c9-9bd5-f869144b1998\" class=\"colab-df-container\">\n",
              "    <div>\n",
              "<style scoped>\n",
              "    .dataframe tbody tr th:only-of-type {\n",
              "        vertical-align: middle;\n",
              "    }\n",
              "\n",
              "    .dataframe tbody tr th {\n",
              "        vertical-align: top;\n",
              "    }\n",
              "\n",
              "    .dataframe thead th {\n",
              "        text-align: right;\n",
              "    }\n",
              "</style>\n",
              "<table border=\"1\" class=\"dataframe\">\n",
              "  <thead>\n",
              "    <tr style=\"text-align: right;\">\n",
              "      <th></th>\n",
              "      <th>id</th>\n",
              "      <th>name</th>\n",
              "      <th>host_id</th>\n",
              "      <th>host_name</th>\n",
              "      <th>neighbourhood_group</th>\n",
              "      <th>neighbourhood</th>\n",
              "      <th>latitude</th>\n",
              "      <th>longitude</th>\n",
              "      <th>room_type</th>\n",
              "      <th>price</th>\n",
              "      <th>minimum_nights</th>\n",
              "      <th>number_of_reviews</th>\n",
              "      <th>last_review</th>\n",
              "      <th>reviews_per_month</th>\n",
              "      <th>calculated_host_listings_count</th>\n",
              "      <th>availability_365</th>\n",
              "      <th>city</th>\n",
              "    </tr>\n",
              "  </thead>\n",
              "  <tbody>\n",
              "    <tr>\n",
              "      <th>182851</th>\n",
              "      <td>6123863</td>\n",
              "      <td>Stylish Remodeled House with Deck, Steps to Di...</td>\n",
              "      <td>9072515</td>\n",
              "      <td>Jessica</td>\n",
              "      <td>NaN</td>\n",
              "      <td>West University Heights</td>\n",
              "      <td>32.75992</td>\n",
              "      <td>-117.14292</td>\n",
              "      <td>Entire home/apt</td>\n",
              "      <td>215</td>\n",
              "      <td>2</td>\n",
              "      <td>28</td>\n",
              "      <td>12/07/20</td>\n",
              "      <td>0.44</td>\n",
              "      <td>1</td>\n",
              "      <td>300</td>\n",
              "      <td>San Diego</td>\n",
              "    </tr>\n",
              "    <tr>\n",
              "      <th>46603</th>\n",
              "      <td>33341740</td>\n",
              "      <td>Lux420, Rftop deck, Hot tub, Elvtr in ‚ù§Ô∏è o...</td>\n",
              "      <td>111000374</td>\n",
              "      <td>Elma</td>\n",
              "      <td>NaN</td>\n",
              "      <td>Five Points</td>\n",
              "      <td>39.75436</td>\n",
              "      <td>-104.98469</td>\n",
              "      <td>Entire home/apt</td>\n",
              "      <td>599</td>\n",
              "      <td>30</td>\n",
              "      <td>35</td>\n",
              "      <td>29/12/19</td>\n",
              "      <td>2.42</td>\n",
              "      <td>3</td>\n",
              "      <td>362</td>\n",
              "      <td>Denver</td>\n",
              "    </tr>\n",
              "    <tr>\n",
              "      <th>18675</th>\n",
              "      <td>21784725</td>\n",
              "      <td>LARGE POOL HOUSE IN HOLLYWOOD NEW POOL DECK</td>\n",
              "      <td>158736535</td>\n",
              "      <td>Euseb</td>\n",
              "      <td>NaN</td>\n",
              "      <td>Hollywood</td>\n",
              "      <td>26.01600</td>\n",
              "      <td>-80.23088</td>\n",
              "      <td>Entire home/apt</td>\n",
              "      <td>214</td>\n",
              "      <td>2</td>\n",
              "      <td>10</td>\n",
              "      <td>17/02/20</td>\n",
              "      <td>0.36</td>\n",
              "      <td>1</td>\n",
              "      <td>331</td>\n",
              "      <td>Broward County</td>\n",
              "    </tr>\n",
              "    <tr>\n",
              "      <th>90901</th>\n",
              "      <td>30562982</td>\n",
              "      <td>Modern 2 BR House in Hollywood, Keyless Entry!</td>\n",
              "      <td>134940933</td>\n",
              "      <td>Jonathan</td>\n",
              "      <td>City of Los Angeles</td>\n",
              "      <td>Hollywood Hills</td>\n",
              "      <td>34.11915</td>\n",
              "      <td>-118.32028</td>\n",
              "      <td>Entire home/apt</td>\n",
              "      <td>290</td>\n",
              "      <td>30</td>\n",
              "      <td>0</td>\n",
              "      <td>NaN</td>\n",
              "      <td>NaN</td>\n",
              "      <td>1</td>\n",
              "      <td>0</td>\n",
              "      <td>Los Angeles</td>\n",
              "    </tr>\n",
              "    <tr>\n",
              "      <th>25085</th>\n",
              "      <td>41833198</td>\n",
              "      <td>New Renovated House - Hard Rock / Hollywood Beach</td>\n",
              "      <td>120149672</td>\n",
              "      <td>Yaseen</td>\n",
              "      <td>NaN</td>\n",
              "      <td>Hollywood</td>\n",
              "      <td>26.01587</td>\n",
              "      <td>-80.23007</td>\n",
              "      <td>Entire home/apt</td>\n",
              "      <td>250</td>\n",
              "      <td>2</td>\n",
              "      <td>10</td>\n",
              "      <td>28/04/20</td>\n",
              "      <td>2.16</td>\n",
              "      <td>1</td>\n",
              "      <td>15</td>\n",
              "      <td>Broward County</td>\n",
              "    </tr>\n",
              "  </tbody>\n",
              "</table>\n",
              "</div>\n",
              "    <div class=\"colab-df-buttons\">\n",
              "\n",
              "  <div class=\"colab-df-container\">\n",
              "    <button class=\"colab-df-convert\" onclick=\"convertToInteractive('df-be343410-fbfc-41c9-9bd5-f869144b1998')\"\n",
              "            title=\"Convert this dataframe to an interactive table.\"\n",
              "            style=\"display:none;\">\n",
              "\n",
              "  <svg xmlns=\"http://www.w3.org/2000/svg\" height=\"24px\" viewBox=\"0 -960 960 960\">\n",
              "    <path d=\"M120-120v-720h720v720H120Zm60-500h600v-160H180v160Zm220 220h160v-160H400v160Zm0 220h160v-160H400v160ZM180-400h160v-160H180v160Zm440 0h160v-160H620v160ZM180-180h160v-160H180v160Zm440 0h160v-160H620v160Z\"/>\n",
              "  </svg>\n",
              "    </button>\n",
              "\n",
              "  <style>\n",
              "    .colab-df-container {\n",
              "      display:flex;\n",
              "      gap: 12px;\n",
              "    }\n",
              "\n",
              "    .colab-df-convert {\n",
              "      background-color: #E8F0FE;\n",
              "      border: none;\n",
              "      border-radius: 50%;\n",
              "      cursor: pointer;\n",
              "      display: none;\n",
              "      fill: #1967D2;\n",
              "      height: 32px;\n",
              "      padding: 0 0 0 0;\n",
              "      width: 32px;\n",
              "    }\n",
              "\n",
              "    .colab-df-convert:hover {\n",
              "      background-color: #E2EBFA;\n",
              "      box-shadow: 0px 1px 2px rgba(60, 64, 67, 0.3), 0px 1px 3px 1px rgba(60, 64, 67, 0.15);\n",
              "      fill: #174EA6;\n",
              "    }\n",
              "\n",
              "    .colab-df-buttons div {\n",
              "      margin-bottom: 4px;\n",
              "    }\n",
              "\n",
              "    [theme=dark] .colab-df-convert {\n",
              "      background-color: #3B4455;\n",
              "      fill: #D2E3FC;\n",
              "    }\n",
              "\n",
              "    [theme=dark] .colab-df-convert:hover {\n",
              "      background-color: #434B5C;\n",
              "      box-shadow: 0px 1px 3px 1px rgba(0, 0, 0, 0.15);\n",
              "      filter: drop-shadow(0px 1px 2px rgba(0, 0, 0, 0.3));\n",
              "      fill: #FFFFFF;\n",
              "    }\n",
              "  </style>\n",
              "\n",
              "    <script>\n",
              "      const buttonEl =\n",
              "        document.querySelector('#df-be343410-fbfc-41c9-9bd5-f869144b1998 button.colab-df-convert');\n",
              "      buttonEl.style.display =\n",
              "        google.colab.kernel.accessAllowed ? 'block' : 'none';\n",
              "\n",
              "      async function convertToInteractive(key) {\n",
              "        const element = document.querySelector('#df-be343410-fbfc-41c9-9bd5-f869144b1998');\n",
              "        const dataTable =\n",
              "          await google.colab.kernel.invokeFunction('convertToInteractive',\n",
              "                                                    [key], {});\n",
              "        if (!dataTable) return;\n",
              "\n",
              "        const docLinkHtml = 'Like what you see? Visit the ' +\n",
              "          '<a target=\"_blank\" href=https://colab.research.google.com/notebooks/data_table.ipynb>data table notebook</a>'\n",
              "          + ' to learn more about interactive tables.';\n",
              "        element.innerHTML = '';\n",
              "        dataTable['output_type'] = 'display_data';\n",
              "        await google.colab.output.renderOutput(dataTable, element);\n",
              "        const docLink = document.createElement('div');\n",
              "        docLink.innerHTML = docLinkHtml;\n",
              "        element.appendChild(docLink);\n",
              "      }\n",
              "    </script>\n",
              "  </div>\n",
              "\n",
              "\n",
              "<div id=\"df-01323f2b-86b5-4973-930d-334acbac9710\">\n",
              "  <button class=\"colab-df-quickchart\" onclick=\"quickchart('df-01323f2b-86b5-4973-930d-334acbac9710')\"\n",
              "            title=\"Suggest charts\"\n",
              "            style=\"display:none;\">\n",
              "\n",
              "<svg xmlns=\"http://www.w3.org/2000/svg\" height=\"24px\"viewBox=\"0 0 24 24\"\n",
              "     width=\"24px\">\n",
              "    <g>\n",
              "        <path d=\"M19 3H5c-1.1 0-2 .9-2 2v14c0 1.1.9 2 2 2h14c1.1 0 2-.9 2-2V5c0-1.1-.9-2-2-2zM9 17H7v-7h2v7zm4 0h-2V7h2v10zm4 0h-2v-4h2v4z\"/>\n",
              "    </g>\n",
              "</svg>\n",
              "  </button>\n",
              "\n",
              "<style>\n",
              "  .colab-df-quickchart {\n",
              "      --bg-color: #E8F0FE;\n",
              "      --fill-color: #1967D2;\n",
              "      --hover-bg-color: #E2EBFA;\n",
              "      --hover-fill-color: #174EA6;\n",
              "      --disabled-fill-color: #AAA;\n",
              "      --disabled-bg-color: #DDD;\n",
              "  }\n",
              "\n",
              "  [theme=dark] .colab-df-quickchart {\n",
              "      --bg-color: #3B4455;\n",
              "      --fill-color: #D2E3FC;\n",
              "      --hover-bg-color: #434B5C;\n",
              "      --hover-fill-color: #FFFFFF;\n",
              "      --disabled-bg-color: #3B4455;\n",
              "      --disabled-fill-color: #666;\n",
              "  }\n",
              "\n",
              "  .colab-df-quickchart {\n",
              "    background-color: var(--bg-color);\n",
              "    border: none;\n",
              "    border-radius: 50%;\n",
              "    cursor: pointer;\n",
              "    display: none;\n",
              "    fill: var(--fill-color);\n",
              "    height: 32px;\n",
              "    padding: 0;\n",
              "    width: 32px;\n",
              "  }\n",
              "\n",
              "  .colab-df-quickchart:hover {\n",
              "    background-color: var(--hover-bg-color);\n",
              "    box-shadow: 0 1px 2px rgba(60, 64, 67, 0.3), 0 1px 3px 1px rgba(60, 64, 67, 0.15);\n",
              "    fill: var(--button-hover-fill-color);\n",
              "  }\n",
              "\n",
              "  .colab-df-quickchart-complete:disabled,\n",
              "  .colab-df-quickchart-complete:disabled:hover {\n",
              "    background-color: var(--disabled-bg-color);\n",
              "    fill: var(--disabled-fill-color);\n",
              "    box-shadow: none;\n",
              "  }\n",
              "\n",
              "  .colab-df-spinner {\n",
              "    border: 2px solid var(--fill-color);\n",
              "    border-color: transparent;\n",
              "    border-bottom-color: var(--fill-color);\n",
              "    animation:\n",
              "      spin 1s steps(1) infinite;\n",
              "  }\n",
              "\n",
              "  @keyframes spin {\n",
              "    0% {\n",
              "      border-color: transparent;\n",
              "      border-bottom-color: var(--fill-color);\n",
              "      border-left-color: var(--fill-color);\n",
              "    }\n",
              "    20% {\n",
              "      border-color: transparent;\n",
              "      border-left-color: var(--fill-color);\n",
              "      border-top-color: var(--fill-color);\n",
              "    }\n",
              "    30% {\n",
              "      border-color: transparent;\n",
              "      border-left-color: var(--fill-color);\n",
              "      border-top-color: var(--fill-color);\n",
              "      border-right-color: var(--fill-color);\n",
              "    }\n",
              "    40% {\n",
              "      border-color: transparent;\n",
              "      border-right-color: var(--fill-color);\n",
              "      border-top-color: var(--fill-color);\n",
              "    }\n",
              "    60% {\n",
              "      border-color: transparent;\n",
              "      border-right-color: var(--fill-color);\n",
              "    }\n",
              "    80% {\n",
              "      border-color: transparent;\n",
              "      border-right-color: var(--fill-color);\n",
              "      border-bottom-color: var(--fill-color);\n",
              "    }\n",
              "    90% {\n",
              "      border-color: transparent;\n",
              "      border-bottom-color: var(--fill-color);\n",
              "    }\n",
              "  }\n",
              "</style>\n",
              "\n",
              "  <script>\n",
              "    async function quickchart(key) {\n",
              "      const quickchartButtonEl =\n",
              "        document.querySelector('#' + key + ' button');\n",
              "      quickchartButtonEl.disabled = true;  // To prevent multiple clicks.\n",
              "      quickchartButtonEl.classList.add('colab-df-spinner');\n",
              "      try {\n",
              "        const charts = await google.colab.kernel.invokeFunction(\n",
              "            'suggestCharts', [key], {});\n",
              "      } catch (error) {\n",
              "        console.error('Error during call to suggestCharts:', error);\n",
              "      }\n",
              "      quickchartButtonEl.classList.remove('colab-df-spinner');\n",
              "      quickchartButtonEl.classList.add('colab-df-quickchart-complete');\n",
              "    }\n",
              "    (() => {\n",
              "      let quickchartButtonEl =\n",
              "        document.querySelector('#df-01323f2b-86b5-4973-930d-334acbac9710 button');\n",
              "      quickchartButtonEl.style.display =\n",
              "        google.colab.kernel.accessAllowed ? 'block' : 'none';\n",
              "    })();\n",
              "  </script>\n",
              "</div>\n",
              "\n",
              "    </div>\n",
              "  </div>\n"
            ],
            "application/vnd.google.colaboratory.intrinsic+json": {
              "type": "dataframe",
              "repr_error": "0"
            }
          },
          "metadata": {},
          "execution_count": 5
        }
      ]
    },
    {
      "cell_type": "markdown",
      "source": [
        "As features são as seguintes:\n",
        "\n",
        "1. ID: Um valor numérico para o Airbnb;\n",
        "2. Name: Nome do  Airbnb;\n",
        "3. host_id: Id para o dono do Airbnb;\n",
        "4. host_name: Nome do dono do Airbnb;\n",
        "5. neighbourhood_group:  Grupo no qual a vizinhança(região) se enquadra;\n",
        "6. neighbourhood: Nome da vizinhança(região);\n",
        "7. latitude: Latitude de listagem do Aribnb;\n",
        "8. longitude: Longitude de listagem do Aribnb;  \n",
        "9. room_type: Tipo de quarto oferecido;\n",
        "10. price: Preço da estadia por noite;\n",
        "11. minimum_nights: Minímo de noites que precisa ficar hospedado;\n",
        "12. number_of_reviews: Número de reviews do Airbnb;\n",
        "13. last_review: Data do último review feito para o Airbnb;\n",
        "14. reviews_per_month: Número de reviews que o Airbnb recebe por mês;\n",
        "15. calculated_host_listings_count: Número total de listagem por host;\n",
        "16. availability_365: Disponibilidade durante o ano;\n",
        "17. city: Cidade em que o Airbnb é localizado;   "
      ],
      "metadata": {
        "id": "JukDxOlRCP47"
      }
    },
    {
      "cell_type": "markdown",
      "source": [
        "Podemos observar melhor as variaveis numéricas fazendo histogramas, e utilizando o comando .describe()"
      ],
      "metadata": {
        "id": "KQwvcaIAXotm"
      }
    },
    {
      "cell_type": "code",
      "source": [
        "Airbnb.describe()"
      ],
      "metadata": {
        "id": "YDbP68g-Ji4x",
        "colab": {
          "base_uri": "https://localhost:8080/",
          "height": 300
        },
        "outputId": "8d990ff3-fd55-433f-e0fb-856e70f823a9"
      },
      "execution_count": null,
      "outputs": [
        {
          "output_type": "execute_result",
          "data": {
            "text/plain": [
              "                 id       host_id       latitude      longitude  \\\n",
              "count  1.808240e+05  1.808240e+05  180824.000000  180824.000000   \n",
              "mean   2.545662e+07  9.344431e+07      35.647098    -103.264143   \n",
              "std    1.316837e+07  9.813054e+07       6.861322      26.252838   \n",
              "min    1.090000e+02  2.300000e+01      18.920990    -159.714900   \n",
              "25%    1.517355e+07  1.400621e+07      32.759950    -118.605797   \n",
              "50%    2.587195e+07  5.143385e+07      37.246970     -97.828420   \n",
              "75%    3.770920e+07  1.496012e+08      40.723833     -76.926752   \n",
              "max    4.556085e+07  3.679176e+08      47.734620     -70.995950   \n",
              "\n",
              "               price  minimum_nights  number_of_reviews  reviews_per_month  \\\n",
              "count  180824.000000   180824.000000      180824.000000      141899.000000   \n",
              "mean      219.189582       10.149770          34.491146           1.431253   \n",
              "std       561.791921       25.427055          63.579611           1.684629   \n",
              "min         0.000000        1.000000           0.000000           0.010000   \n",
              "25%        75.000000        1.000000           1.000000           0.230000   \n",
              "50%       121.000000        2.000000           8.000000           0.810000   \n",
              "75%       200.000000        7.000000          39.000000           2.060000   \n",
              "max     24999.000000     1250.000000         966.000000          44.060000   \n",
              "\n",
              "       calculated_host_listings_count  availability_365  \n",
              "count                   180824.000000     180824.000000  \n",
              "mean                        16.700250        159.262321  \n",
              "std                         51.154448        140.249691  \n",
              "min                          1.000000          0.000000  \n",
              "25%                          1.000000          0.000000  \n",
              "50%                          2.000000        140.000000  \n",
              "75%                          6.000000        311.000000  \n",
              "max                        593.000000        365.000000  "
            ],
            "text/html": [
              "\n",
              "  <div id=\"df-cc1aec1e-24d8-40c0-8af0-e1776af3a267\" class=\"colab-df-container\">\n",
              "    <div>\n",
              "<style scoped>\n",
              "    .dataframe tbody tr th:only-of-type {\n",
              "        vertical-align: middle;\n",
              "    }\n",
              "\n",
              "    .dataframe tbody tr th {\n",
              "        vertical-align: top;\n",
              "    }\n",
              "\n",
              "    .dataframe thead th {\n",
              "        text-align: right;\n",
              "    }\n",
              "</style>\n",
              "<table border=\"1\" class=\"dataframe\">\n",
              "  <thead>\n",
              "    <tr style=\"text-align: right;\">\n",
              "      <th></th>\n",
              "      <th>id</th>\n",
              "      <th>host_id</th>\n",
              "      <th>latitude</th>\n",
              "      <th>longitude</th>\n",
              "      <th>price</th>\n",
              "      <th>minimum_nights</th>\n",
              "      <th>number_of_reviews</th>\n",
              "      <th>reviews_per_month</th>\n",
              "      <th>calculated_host_listings_count</th>\n",
              "      <th>availability_365</th>\n",
              "    </tr>\n",
              "  </thead>\n",
              "  <tbody>\n",
              "    <tr>\n",
              "      <th>count</th>\n",
              "      <td>1.808240e+05</td>\n",
              "      <td>1.808240e+05</td>\n",
              "      <td>180824.000000</td>\n",
              "      <td>180824.000000</td>\n",
              "      <td>180824.000000</td>\n",
              "      <td>180824.000000</td>\n",
              "      <td>180824.000000</td>\n",
              "      <td>141899.000000</td>\n",
              "      <td>180824.000000</td>\n",
              "      <td>180824.000000</td>\n",
              "    </tr>\n",
              "    <tr>\n",
              "      <th>mean</th>\n",
              "      <td>2.545662e+07</td>\n",
              "      <td>9.344431e+07</td>\n",
              "      <td>35.647098</td>\n",
              "      <td>-103.264143</td>\n",
              "      <td>219.189582</td>\n",
              "      <td>10.149770</td>\n",
              "      <td>34.491146</td>\n",
              "      <td>1.431253</td>\n",
              "      <td>16.700250</td>\n",
              "      <td>159.262321</td>\n",
              "    </tr>\n",
              "    <tr>\n",
              "      <th>std</th>\n",
              "      <td>1.316837e+07</td>\n",
              "      <td>9.813054e+07</td>\n",
              "      <td>6.861322</td>\n",
              "      <td>26.252838</td>\n",
              "      <td>561.791921</td>\n",
              "      <td>25.427055</td>\n",
              "      <td>63.579611</td>\n",
              "      <td>1.684629</td>\n",
              "      <td>51.154448</td>\n",
              "      <td>140.249691</td>\n",
              "    </tr>\n",
              "    <tr>\n",
              "      <th>min</th>\n",
              "      <td>1.090000e+02</td>\n",
              "      <td>2.300000e+01</td>\n",
              "      <td>18.920990</td>\n",
              "      <td>-159.714900</td>\n",
              "      <td>0.000000</td>\n",
              "      <td>1.000000</td>\n",
              "      <td>0.000000</td>\n",
              "      <td>0.010000</td>\n",
              "      <td>1.000000</td>\n",
              "      <td>0.000000</td>\n",
              "    </tr>\n",
              "    <tr>\n",
              "      <th>25%</th>\n",
              "      <td>1.517355e+07</td>\n",
              "      <td>1.400621e+07</td>\n",
              "      <td>32.759950</td>\n",
              "      <td>-118.605797</td>\n",
              "      <td>75.000000</td>\n",
              "      <td>1.000000</td>\n",
              "      <td>1.000000</td>\n",
              "      <td>0.230000</td>\n",
              "      <td>1.000000</td>\n",
              "      <td>0.000000</td>\n",
              "    </tr>\n",
              "    <tr>\n",
              "      <th>50%</th>\n",
              "      <td>2.587195e+07</td>\n",
              "      <td>5.143385e+07</td>\n",
              "      <td>37.246970</td>\n",
              "      <td>-97.828420</td>\n",
              "      <td>121.000000</td>\n",
              "      <td>2.000000</td>\n",
              "      <td>8.000000</td>\n",
              "      <td>0.810000</td>\n",
              "      <td>2.000000</td>\n",
              "      <td>140.000000</td>\n",
              "    </tr>\n",
              "    <tr>\n",
              "      <th>75%</th>\n",
              "      <td>3.770920e+07</td>\n",
              "      <td>1.496012e+08</td>\n",
              "      <td>40.723833</td>\n",
              "      <td>-76.926752</td>\n",
              "      <td>200.000000</td>\n",
              "      <td>7.000000</td>\n",
              "      <td>39.000000</td>\n",
              "      <td>2.060000</td>\n",
              "      <td>6.000000</td>\n",
              "      <td>311.000000</td>\n",
              "    </tr>\n",
              "    <tr>\n",
              "      <th>max</th>\n",
              "      <td>4.556085e+07</td>\n",
              "      <td>3.679176e+08</td>\n",
              "      <td>47.734620</td>\n",
              "      <td>-70.995950</td>\n",
              "      <td>24999.000000</td>\n",
              "      <td>1250.000000</td>\n",
              "      <td>966.000000</td>\n",
              "      <td>44.060000</td>\n",
              "      <td>593.000000</td>\n",
              "      <td>365.000000</td>\n",
              "    </tr>\n",
              "  </tbody>\n",
              "</table>\n",
              "</div>\n",
              "    <div class=\"colab-df-buttons\">\n",
              "\n",
              "  <div class=\"colab-df-container\">\n",
              "    <button class=\"colab-df-convert\" onclick=\"convertToInteractive('df-cc1aec1e-24d8-40c0-8af0-e1776af3a267')\"\n",
              "            title=\"Convert this dataframe to an interactive table.\"\n",
              "            style=\"display:none;\">\n",
              "\n",
              "  <svg xmlns=\"http://www.w3.org/2000/svg\" height=\"24px\" viewBox=\"0 -960 960 960\">\n",
              "    <path d=\"M120-120v-720h720v720H120Zm60-500h600v-160H180v160Zm220 220h160v-160H400v160Zm0 220h160v-160H400v160ZM180-400h160v-160H180v160Zm440 0h160v-160H620v160ZM180-180h160v-160H180v160Zm440 0h160v-160H620v160Z\"/>\n",
              "  </svg>\n",
              "    </button>\n",
              "\n",
              "  <style>\n",
              "    .colab-df-container {\n",
              "      display:flex;\n",
              "      gap: 12px;\n",
              "    }\n",
              "\n",
              "    .colab-df-convert {\n",
              "      background-color: #E8F0FE;\n",
              "      border: none;\n",
              "      border-radius: 50%;\n",
              "      cursor: pointer;\n",
              "      display: none;\n",
              "      fill: #1967D2;\n",
              "      height: 32px;\n",
              "      padding: 0 0 0 0;\n",
              "      width: 32px;\n",
              "    }\n",
              "\n",
              "    .colab-df-convert:hover {\n",
              "      background-color: #E2EBFA;\n",
              "      box-shadow: 0px 1px 2px rgba(60, 64, 67, 0.3), 0px 1px 3px 1px rgba(60, 64, 67, 0.15);\n",
              "      fill: #174EA6;\n",
              "    }\n",
              "\n",
              "    .colab-df-buttons div {\n",
              "      margin-bottom: 4px;\n",
              "    }\n",
              "\n",
              "    [theme=dark] .colab-df-convert {\n",
              "      background-color: #3B4455;\n",
              "      fill: #D2E3FC;\n",
              "    }\n",
              "\n",
              "    [theme=dark] .colab-df-convert:hover {\n",
              "      background-color: #434B5C;\n",
              "      box-shadow: 0px 1px 3px 1px rgba(0, 0, 0, 0.15);\n",
              "      filter: drop-shadow(0px 1px 2px rgba(0, 0, 0, 0.3));\n",
              "      fill: #FFFFFF;\n",
              "    }\n",
              "  </style>\n",
              "\n",
              "    <script>\n",
              "      const buttonEl =\n",
              "        document.querySelector('#df-cc1aec1e-24d8-40c0-8af0-e1776af3a267 button.colab-df-convert');\n",
              "      buttonEl.style.display =\n",
              "        google.colab.kernel.accessAllowed ? 'block' : 'none';\n",
              "\n",
              "      async function convertToInteractive(key) {\n",
              "        const element = document.querySelector('#df-cc1aec1e-24d8-40c0-8af0-e1776af3a267');\n",
              "        const dataTable =\n",
              "          await google.colab.kernel.invokeFunction('convertToInteractive',\n",
              "                                                    [key], {});\n",
              "        if (!dataTable) return;\n",
              "\n",
              "        const docLinkHtml = 'Like what you see? Visit the ' +\n",
              "          '<a target=\"_blank\" href=https://colab.research.google.com/notebooks/data_table.ipynb>data table notebook</a>'\n",
              "          + ' to learn more about interactive tables.';\n",
              "        element.innerHTML = '';\n",
              "        dataTable['output_type'] = 'display_data';\n",
              "        await google.colab.output.renderOutput(dataTable, element);\n",
              "        const docLink = document.createElement('div');\n",
              "        docLink.innerHTML = docLinkHtml;\n",
              "        element.appendChild(docLink);\n",
              "      }\n",
              "    </script>\n",
              "  </div>\n",
              "\n",
              "\n",
              "<div id=\"df-4c6ca343-cae8-4551-be99-bc63e1073e06\">\n",
              "  <button class=\"colab-df-quickchart\" onclick=\"quickchart('df-4c6ca343-cae8-4551-be99-bc63e1073e06')\"\n",
              "            title=\"Suggest charts\"\n",
              "            style=\"display:none;\">\n",
              "\n",
              "<svg xmlns=\"http://www.w3.org/2000/svg\" height=\"24px\"viewBox=\"0 0 24 24\"\n",
              "     width=\"24px\">\n",
              "    <g>\n",
              "        <path d=\"M19 3H5c-1.1 0-2 .9-2 2v14c0 1.1.9 2 2 2h14c1.1 0 2-.9 2-2V5c0-1.1-.9-2-2-2zM9 17H7v-7h2v7zm4 0h-2V7h2v10zm4 0h-2v-4h2v4z\"/>\n",
              "    </g>\n",
              "</svg>\n",
              "  </button>\n",
              "\n",
              "<style>\n",
              "  .colab-df-quickchart {\n",
              "      --bg-color: #E8F0FE;\n",
              "      --fill-color: #1967D2;\n",
              "      --hover-bg-color: #E2EBFA;\n",
              "      --hover-fill-color: #174EA6;\n",
              "      --disabled-fill-color: #AAA;\n",
              "      --disabled-bg-color: #DDD;\n",
              "  }\n",
              "\n",
              "  [theme=dark] .colab-df-quickchart {\n",
              "      --bg-color: #3B4455;\n",
              "      --fill-color: #D2E3FC;\n",
              "      --hover-bg-color: #434B5C;\n",
              "      --hover-fill-color: #FFFFFF;\n",
              "      --disabled-bg-color: #3B4455;\n",
              "      --disabled-fill-color: #666;\n",
              "  }\n",
              "\n",
              "  .colab-df-quickchart {\n",
              "    background-color: var(--bg-color);\n",
              "    border: none;\n",
              "    border-radius: 50%;\n",
              "    cursor: pointer;\n",
              "    display: none;\n",
              "    fill: var(--fill-color);\n",
              "    height: 32px;\n",
              "    padding: 0;\n",
              "    width: 32px;\n",
              "  }\n",
              "\n",
              "  .colab-df-quickchart:hover {\n",
              "    background-color: var(--hover-bg-color);\n",
              "    box-shadow: 0 1px 2px rgba(60, 64, 67, 0.3), 0 1px 3px 1px rgba(60, 64, 67, 0.15);\n",
              "    fill: var(--button-hover-fill-color);\n",
              "  }\n",
              "\n",
              "  .colab-df-quickchart-complete:disabled,\n",
              "  .colab-df-quickchart-complete:disabled:hover {\n",
              "    background-color: var(--disabled-bg-color);\n",
              "    fill: var(--disabled-fill-color);\n",
              "    box-shadow: none;\n",
              "  }\n",
              "\n",
              "  .colab-df-spinner {\n",
              "    border: 2px solid var(--fill-color);\n",
              "    border-color: transparent;\n",
              "    border-bottom-color: var(--fill-color);\n",
              "    animation:\n",
              "      spin 1s steps(1) infinite;\n",
              "  }\n",
              "\n",
              "  @keyframes spin {\n",
              "    0% {\n",
              "      border-color: transparent;\n",
              "      border-bottom-color: var(--fill-color);\n",
              "      border-left-color: var(--fill-color);\n",
              "    }\n",
              "    20% {\n",
              "      border-color: transparent;\n",
              "      border-left-color: var(--fill-color);\n",
              "      border-top-color: var(--fill-color);\n",
              "    }\n",
              "    30% {\n",
              "      border-color: transparent;\n",
              "      border-left-color: var(--fill-color);\n",
              "      border-top-color: var(--fill-color);\n",
              "      border-right-color: var(--fill-color);\n",
              "    }\n",
              "    40% {\n",
              "      border-color: transparent;\n",
              "      border-right-color: var(--fill-color);\n",
              "      border-top-color: var(--fill-color);\n",
              "    }\n",
              "    60% {\n",
              "      border-color: transparent;\n",
              "      border-right-color: var(--fill-color);\n",
              "    }\n",
              "    80% {\n",
              "      border-color: transparent;\n",
              "      border-right-color: var(--fill-color);\n",
              "      border-bottom-color: var(--fill-color);\n",
              "    }\n",
              "    90% {\n",
              "      border-color: transparent;\n",
              "      border-bottom-color: var(--fill-color);\n",
              "    }\n",
              "  }\n",
              "</style>\n",
              "\n",
              "  <script>\n",
              "    async function quickchart(key) {\n",
              "      const quickchartButtonEl =\n",
              "        document.querySelector('#' + key + ' button');\n",
              "      quickchartButtonEl.disabled = true;  // To prevent multiple clicks.\n",
              "      quickchartButtonEl.classList.add('colab-df-spinner');\n",
              "      try {\n",
              "        const charts = await google.colab.kernel.invokeFunction(\n",
              "            'suggestCharts', [key], {});\n",
              "      } catch (error) {\n",
              "        console.error('Error during call to suggestCharts:', error);\n",
              "      }\n",
              "      quickchartButtonEl.classList.remove('colab-df-spinner');\n",
              "      quickchartButtonEl.classList.add('colab-df-quickchart-complete');\n",
              "    }\n",
              "    (() => {\n",
              "      let quickchartButtonEl =\n",
              "        document.querySelector('#df-4c6ca343-cae8-4551-be99-bc63e1073e06 button');\n",
              "      quickchartButtonEl.style.display =\n",
              "        google.colab.kernel.accessAllowed ? 'block' : 'none';\n",
              "    })();\n",
              "  </script>\n",
              "</div>\n",
              "\n",
              "    </div>\n",
              "  </div>\n"
            ],
            "application/vnd.google.colaboratory.intrinsic+json": {
              "type": "dataframe",
              "summary": "{\n  \"name\": \"Airbnb_data\",\n  \"rows\": 8,\n  \"fields\": [\n    {\n      \"column\": \"id\",\n      \"properties\": {\n        \"dtype\": \"number\",\n        \"std\": 16443715.625740692,\n        \"min\": 109.0,\n        \"max\": 45560850.0,\n        \"num_unique_values\": 8,\n        \"samples\": [\n          25456616.647297926,\n          25871945.5,\n          180824.0\n        ],\n        \"semantic_type\": \"\",\n        \"description\": \"\"\n      }\n    },\n    {\n      \"column\": \"host_id\",\n      \"properties\": {\n        \"dtype\": \"number\",\n        \"std\": 121845405.75508693,\n        \"min\": 23.0,\n        \"max\": 367917574.0,\n        \"num_unique_values\": 8,\n        \"samples\": [\n          93444306.98341481,\n          51433847.0,\n          180824.0\n        ],\n        \"semantic_type\": \"\",\n        \"description\": \"\"\n      }\n    },\n    {\n      \"column\": \"latitude\",\n      \"properties\": {\n        \"dtype\": \"number\",\n        \"std\": 63919.8332395495,\n        \"min\": 6.861321936878954,\n        \"max\": 180824.0,\n        \"num_unique_values\": 8,\n        \"samples\": [\n          35.64709846013073,\n          37.24697,\n          180824.0\n        ],\n        \"semantic_type\": \"\",\n        \"description\": \"\"\n      }\n    },\n    {\n      \"column\": \"longitude\",\n      \"properties\": {\n        \"dtype\": \"number\",\n        \"std\": 63961.31974264126,\n        \"min\": -159.7149,\n        \"max\": 180824.0,\n        \"num_unique_values\": 8,\n        \"samples\": [\n          -103.26414262163478,\n          -97.82842,\n          180824.0\n        ],\n        \"semantic_type\": \"\",\n        \"description\": \"\"\n      }\n    },\n    {\n      \"column\": \"price\",\n      \"properties\": {\n        \"dtype\": \"number\",\n        \"std\": 63207.785296328766,\n        \"min\": 0.0,\n        \"max\": 180824.0,\n        \"num_unique_values\": 8,\n        \"samples\": [\n          219.18958213511482,\n          121.0,\n          180824.0\n        ],\n        \"semantic_type\": \"\",\n        \"description\": \"\"\n      }\n    },\n    {\n      \"column\": \"minimum_nights\",\n      \"properties\": {\n        \"dtype\": \"number\",\n        \"std\": 63866.93110083046,\n        \"min\": 1.0,\n        \"max\": 180824.0,\n        \"num_unique_values\": 7,\n        \"samples\": [\n          180824.0,\n          10.149769942043092,\n          7.0\n        ],\n        \"semantic_type\": \"\",\n        \"description\": \"\"\n      }\n    },\n    {\n      \"column\": \"number_of_reviews\",\n      \"properties\": {\n        \"dtype\": \"number\",\n        \"std\": 63875.62380985971,\n        \"min\": 0.0,\n        \"max\": 180824.0,\n        \"num_unique_values\": 8,\n        \"samples\": [\n          34.49114608680264,\n          8.0,\n          180824.0\n        ],\n        \"semantic_type\": \"\",\n        \"description\": \"\"\n      }\n    },\n    {\n      \"column\": \"reviews_per_month\",\n      \"properties\": {\n        \"dtype\": \"number\",\n        \"std\": 50166.33501494028,\n        \"min\": 0.01,\n        \"max\": 141899.0,\n        \"num_unique_values\": 8,\n        \"samples\": [\n          1.4312527220064972,\n          0.81,\n          141899.0\n        ],\n        \"semantic_type\": \"\",\n        \"description\": \"\"\n      }\n    },\n    {\n      \"column\": \"calculated_host_listings_count\",\n      \"properties\": {\n        \"dtype\": \"number\",\n        \"std\": 63897.37953203539,\n        \"min\": 1.0,\n        \"max\": 180824.0,\n        \"num_unique_values\": 7,\n        \"samples\": [\n          180824.0,\n          16.700249966818564,\n          6.0\n        ],\n        \"semantic_type\": \"\",\n        \"description\": \"\"\n      }\n    },\n    {\n      \"column\": \"availability_365\",\n      \"properties\": {\n        \"dtype\": \"number\",\n        \"std\": 63874.72706405798,\n        \"min\": 0.0,\n        \"max\": 180824.0,\n        \"num_unique_values\": 7,\n        \"samples\": [\n          180824.0,\n          159.26232137326903,\n          311.0\n        ],\n        \"semantic_type\": \"\",\n        \"description\": \"\"\n      }\n    }\n  ]\n}"
            }
          },
          "metadata": {},
          "execution_count": 10
        }
      ]
    },
    {
      "cell_type": "code",
      "source": [
        "Airbnb.hist(bins=50, figsize=(20,15))\n",
        "plt.show()"
      ],
      "metadata": {
        "colab": {
          "base_uri": "https://localhost:8080/",
          "height": 757
        },
        "id": "7R1EoYDyQuDR",
        "outputId": "0e26dade-0e4d-4072-c55d-5f2fd84d6a07"
      },
      "execution_count": null,
      "outputs": [
        {
          "output_type": "display_data",
          "data": {
            "text/plain": [
              "<Figure size 2000x1500 with 12 Axes>"
            ],
            "image/png": "[encoded data removed]"
          },
          "metadata": {}
        }
      ]
    },
    {
      "cell_type": "markdown",
      "source": [
        "# Separando o Conjunto de Dados\n",
        "\n",
        "Agora faremos a separação dos dados para o treinamento dos modelos. Mas essa separação será estratificada da seguinte forma"
      ],
      "metadata": {
        "id": "DOgdc38aiiaD"
      }
    },
    {
      "cell_type": "code",
      "source": [
        "Airbnb[\"price_strat\"] = pd.cut(Airbnb[\"price\"],\n",
        "                               bins=[-1, 60, 125, 300, 25000],\n",
        "                               labels=[1, 2, 3, 4])\n",
        "\n",
        "#Airbnb[\"minimum_nights_strat\"] = Airbnb[\"minimum_nights_strat\"].fillna(Airbnb[\"minimum_nights_strat\"].mode()[0])\n",
        "Airbnb[\"price_strat\"].info()"
      ],
      "metadata": {
        "id": "Fh65SzUDRNxA",
        "colab": {
          "base_uri": "https://localhost:8080/"
        },
        "outputId": "ab2b3687-ac8d-41d3-bf59-c72d4bed5075"
      },
      "execution_count": 6,
      "outputs": [
        {
          "output_type": "stream",
          "name": "stdout",
          "text": [
            "<class 'pandas.core.series.Series'>\n",
            "RangeIndex: 226030 entries, 0 to 226029\n",
            "Series name: price_strat\n",
            "Non-Null Count   Dtype   \n",
            "--------------   -----   \n",
            "226030 non-null  category\n",
            "dtypes: category(1)\n",
            "memory usage: 221.1 KB\n"
          ]
        }
      ]
    },
    {
      "cell_type": "code",
      "source": [
        "from sklearn.model_selection import StratifiedShuffleSplit\n",
        "\n",
        "split = StratifiedShuffleSplit(n_splits=1, test_size=0.2, random_state=seed)\n",
        "\n",
        "for train_index, test_index in split.split(Airbnb, Airbnb[\"price_strat\"]):\n",
        "    Airbnb_train_data = Airbnb.loc[train_index]\n",
        "    test_set = Airbnb.loc[test_index]"
      ],
      "metadata": {
        "id": "bCcy9r4rl0jt"
      },
      "execution_count": 7,
      "outputs": []
    },
    {
      "cell_type": "markdown",
      "source": [
        "Para ver se fizemos uma boa estratificação podemos comparar com uma amostra aleátoria"
      ],
      "metadata": {
        "id": "SpsILGoGptIy"
      }
    },
    {
      "cell_type": "code",
      "source": [
        "def price_strat_proportions(data):\n",
        "    return data[\"price_strat\"].value_counts() / len(data)"
      ],
      "metadata": {
        "id": "bWAZBqrxpUdw"
      },
      "execution_count": null,
      "outputs": []
    },
    {
      "cell_type": "code",
      "source": [
        "fake_train_set, fake_test_set = train_test_split(Airbnb, test_size=0.2, random_state=seed)"
      ],
      "metadata": {
        "id": "v64cloQbo8PV"
      },
      "execution_count": null,
      "outputs": []
    },
    {
      "cell_type": "code",
      "source": [
        "compare_props = pd.DataFrame({\n",
        "    \"Geral\": income_cat_proportions(Airbnb),\n",
        "    \"Estratificado\": income_cat_proportions(test_set),\n",
        "    \"Aleatorio\": income_cat_proportions(fake_test_set),\n",
        "}).sort_index()\n",
        "\n",
        "compare_props[\"Aleatório %erro\"] = 100 * compare_props[\"Aleatorio\"] / compare_props[\"Geral\"] - 100\n",
        "compare_props[\"Estratificado %erro\"] = 100 * compare_props[\"Estratificado\"] / compare_props[\"Geral\"] - 100\n",
        "\n",
        "compare_props"
      ],
      "metadata": {
        "colab": {
          "base_uri": "https://localhost:8080/",
          "height": 206
        },
        "id": "mryBLTNko-VY",
        "outputId": "b54a05a0-622c-409f-d311-339ca3238bf6"
      },
      "execution_count": null,
      "outputs": [
        {
          "output_type": "execute_result",
          "data": {
            "text/plain": [
              "                Geral  Estratificado  Aleatorio  Aleatório %erro  \\\n",
              "price_strat                                                        \n",
              "1            0.170570       0.170575   0.169845        -0.425377   \n",
              "2            0.351263       0.351259   0.351325         0.017633   \n",
              "3            0.342990       0.342985   0.343848         0.250239   \n",
              "4            0.135177       0.135181   0.134982        -0.144007   \n",
              "\n",
              "             Estratificado %erro  \n",
              "price_strat                       \n",
              "1                       0.002594  \n",
              "2                      -0.001260  \n",
              "3                      -0.001290  \n",
              "4                       0.003273  "
            ],
            "text/html": [
              "\n",
              "  <div id=\"df-f05bbbfc-6658-4394-beaa-862991803379\" class=\"colab-df-container\">\n",
              "    <div>\n",
              "<style scoped>\n",
              "    .dataframe tbody tr th:only-of-type {\n",
              "        vertical-align: middle;\n",
              "    }\n",
              "\n",
              "    .dataframe tbody tr th {\n",
              "        vertical-align: top;\n",
              "    }\n",
              "\n",
              "    .dataframe thead th {\n",
              "        text-align: right;\n",
              "    }\n",
              "</style>\n",
              "<table border=\"1\" class=\"dataframe\">\n",
              "  <thead>\n",
              "    <tr style=\"text-align: right;\">\n",
              "      <th></th>\n",
              "      <th>Geral</th>\n",
              "      <th>Estratificado</th>\n",
              "      <th>Aleatorio</th>\n",
              "      <th>Aleatório %erro</th>\n",
              "      <th>Estratificado %erro</th>\n",
              "    </tr>\n",
              "    <tr>\n",
              "      <th>price_strat</th>\n",
              "      <th></th>\n",
              "      <th></th>\n",
              "      <th></th>\n",
              "      <th></th>\n",
              "      <th></th>\n",
              "    </tr>\n",
              "  </thead>\n",
              "  <tbody>\n",
              "    <tr>\n",
              "      <th>1</th>\n",
              "      <td>0.170570</td>\n",
              "      <td>0.170575</td>\n",
              "      <td>0.169845</td>\n",
              "      <td>-0.425377</td>\n",
              "      <td>0.002594</td>\n",
              "    </tr>\n",
              "    <tr>\n",
              "      <th>2</th>\n",
              "      <td>0.351263</td>\n",
              "      <td>0.351259</td>\n",
              "      <td>0.351325</td>\n",
              "      <td>0.017633</td>\n",
              "      <td>-0.001260</td>\n",
              "    </tr>\n",
              "    <tr>\n",
              "      <th>3</th>\n",
              "      <td>0.342990</td>\n",
              "      <td>0.342985</td>\n",
              "      <td>0.343848</td>\n",
              "      <td>0.250239</td>\n",
              "      <td>-0.001290</td>\n",
              "    </tr>\n",
              "    <tr>\n",
              "      <th>4</th>\n",
              "      <td>0.135177</td>\n",
              "      <td>0.135181</td>\n",
              "      <td>0.134982</td>\n",
              "      <td>-0.144007</td>\n",
              "      <td>0.003273</td>\n",
              "    </tr>\n",
              "  </tbody>\n",
              "</table>\n",
              "</div>\n",
              "    <div class=\"colab-df-buttons\">\n",
              "\n",
              "  <div class=\"colab-df-container\">\n",
              "    <button class=\"colab-df-convert\" onclick=\"convertToInteractive('df-f05bbbfc-6658-4394-beaa-862991803379')\"\n",
              "            title=\"Convert this dataframe to an interactive table.\"\n",
              "            style=\"display:none;\">\n",
              "\n",
              "  <svg xmlns=\"http://www.w3.org/2000/svg\" height=\"24px\" viewBox=\"0 -960 960 960\">\n",
              "    <path d=\"M120-120v-720h720v720H120Zm60-500h600v-160H180v160Zm220 220h160v-160H400v160Zm0 220h160v-160H400v160ZM180-400h160v-160H180v160Zm440 0h160v-160H620v160ZM180-180h160v-160H180v160Zm440 0h160v-160H620v160Z\"/>\n",
              "  </svg>\n",
              "    </button>\n",
              "\n",
              "  <style>\n",
              "    .colab-df-container {\n",
              "      display:flex;\n",
              "      gap: 12px;\n",
              "    }\n",
              "\n",
              "    .colab-df-convert {\n",
              "      background-color: #E8F0FE;\n",
              "      border: none;\n",
              "      border-radius: 50%;\n",
              "      cursor: pointer;\n",
              "      display: none;\n",
              "      fill: #1967D2;\n",
              "      height: 32px;\n",
              "      padding: 0 0 0 0;\n",
              "      width: 32px;\n",
              "    }\n",
              "\n",
              "    .colab-df-convert:hover {\n",
              "      background-color: #E2EBFA;\n",
              "      box-shadow: 0px 1px 2px rgba(60, 64, 67, 0.3), 0px 1px 3px 1px rgba(60, 64, 67, 0.15);\n",
              "      fill: #174EA6;\n",
              "    }\n",
              "\n",
              "    .colab-df-buttons div {\n",
              "      margin-bottom: 4px;\n",
              "    }\n",
              "\n",
              "    [theme=dark] .colab-df-convert {\n",
              "      background-color: #3B4455;\n",
              "      fill: #D2E3FC;\n",
              "    }\n",
              "\n",
              "    [theme=dark] .colab-df-convert:hover {\n",
              "      background-color: #434B5C;\n",
              "      box-shadow: 0px 1px 3px 1px rgba(0, 0, 0, 0.15);\n",
              "      filter: drop-shadow(0px 1px 2px rgba(0, 0, 0, 0.3));\n",
              "      fill: #FFFFFF;\n",
              "    }\n",
              "  </style>\n",
              "\n",
              "    <script>\n",
              "      const buttonEl =\n",
              "        document.querySelector('#df-f05bbbfc-6658-4394-beaa-862991803379 button.colab-df-convert');\n",
              "      buttonEl.style.display =\n",
              "        google.colab.kernel.accessAllowed ? 'block' : 'none';\n",
              "\n",
              "      async function convertToInteractive(key) {\n",
              "        const element = document.querySelector('#df-f05bbbfc-6658-4394-beaa-862991803379');\n",
              "        const dataTable =\n",
              "          await google.colab.kernel.invokeFunction('convertToInteractive',\n",
              "                                                    [key], {});\n",
              "        if (!dataTable) return;\n",
              "\n",
              "        const docLinkHtml = 'Like what you see? Visit the ' +\n",
              "          '<a target=\"_blank\" href=https://colab.research.google.com/notebooks/data_table.ipynb>data table notebook</a>'\n",
              "          + ' to learn more about interactive tables.';\n",
              "        element.innerHTML = '';\n",
              "        dataTable['output_type'] = 'display_data';\n",
              "        await google.colab.output.renderOutput(dataTable, element);\n",
              "        const docLink = document.createElement('div');\n",
              "        docLink.innerHTML = docLinkHtml;\n",
              "        element.appendChild(docLink);\n",
              "      }\n",
              "    </script>\n",
              "  </div>\n",
              "\n",
              "\n",
              "<div id=\"df-ec876baf-eddf-4575-9271-338a5d19c306\">\n",
              "  <button class=\"colab-df-quickchart\" onclick=\"quickchart('df-ec876baf-eddf-4575-9271-338a5d19c306')\"\n",
              "            title=\"Suggest charts\"\n",
              "            style=\"display:none;\">\n",
              "\n",
              "<svg xmlns=\"http://www.w3.org/2000/svg\" height=\"24px\"viewBox=\"0 0 24 24\"\n",
              "     width=\"24px\">\n",
              "    <g>\n",
              "        <path d=\"M19 3H5c-1.1 0-2 .9-2 2v14c0 1.1.9 2 2 2h14c1.1 0 2-.9 2-2V5c0-1.1-.9-2-2-2zM9 17H7v-7h2v7zm4 0h-2V7h2v10zm4 0h-2v-4h2v4z\"/>\n",
              "    </g>\n",
              "</svg>\n",
              "  </button>\n",
              "\n",
              "<style>\n",
              "  .colab-df-quickchart {\n",
              "      --bg-color: #E8F0FE;\n",
              "      --fill-color: #1967D2;\n",
              "      --hover-bg-color: #E2EBFA;\n",
              "      --hover-fill-color: #174EA6;\n",
              "      --disabled-fill-color: #AAA;\n",
              "      --disabled-bg-color: #DDD;\n",
              "  }\n",
              "\n",
              "  [theme=dark] .colab-df-quickchart {\n",
              "      --bg-color: #3B4455;\n",
              "      --fill-color: #D2E3FC;\n",
              "      --hover-bg-color: #434B5C;\n",
              "      --hover-fill-color: #FFFFFF;\n",
              "      --disabled-bg-color: #3B4455;\n",
              "      --disabled-fill-color: #666;\n",
              "  }\n",
              "\n",
              "  .colab-df-quickchart {\n",
              "    background-color: var(--bg-color);\n",
              "    border: none;\n",
              "    border-radius: 50%;\n",
              "    cursor: pointer;\n",
              "    display: none;\n",
              "    fill: var(--fill-color);\n",
              "    height: 32px;\n",
              "    padding: 0;\n",
              "    width: 32px;\n",
              "  }\n",
              "\n",
              "  .colab-df-quickchart:hover {\n",
              "    background-color: var(--hover-bg-color);\n",
              "    box-shadow: 0 1px 2px rgba(60, 64, 67, 0.3), 0 1px 3px 1px rgba(60, 64, 67, 0.15);\n",
              "    fill: var(--button-hover-fill-color);\n",
              "  }\n",
              "\n",
              "  .colab-df-quickchart-complete:disabled,\n",
              "  .colab-df-quickchart-complete:disabled:hover {\n",
              "    background-color: var(--disabled-bg-color);\n",
              "    fill: var(--disabled-fill-color);\n",
              "    box-shadow: none;\n",
              "  }\n",
              "\n",
              "  .colab-df-spinner {\n",
              "    border: 2px solid var(--fill-color);\n",
              "    border-color: transparent;\n",
              "    border-bottom-color: var(--fill-color);\n",
              "    animation:\n",
              "      spin 1s steps(1) infinite;\n",
              "  }\n",
              "\n",
              "  @keyframes spin {\n",
              "    0% {\n",
              "      border-color: transparent;\n",
              "      border-bottom-color: var(--fill-color);\n",
              "      border-left-color: var(--fill-color);\n",
              "    }\n",
              "    20% {\n",
              "      border-color: transparent;\n",
              "      border-left-color: var(--fill-color);\n",
              "      border-top-color: var(--fill-color);\n",
              "    }\n",
              "    30% {\n",
              "      border-color: transparent;\n",
              "      border-left-color: var(--fill-color);\n",
              "      border-top-color: var(--fill-color);\n",
              "      border-right-color: var(--fill-color);\n",
              "    }\n",
              "    40% {\n",
              "      border-color: transparent;\n",
              "      border-right-color: var(--fill-color);\n",
              "      border-top-color: var(--fill-color);\n",
              "    }\n",
              "    60% {\n",
              "      border-color: transparent;\n",
              "      border-right-color: var(--fill-color);\n",
              "    }\n",
              "    80% {\n",
              "      border-color: transparent;\n",
              "      border-right-color: var(--fill-color);\n",
              "      border-bottom-color: var(--fill-color);\n",
              "    }\n",
              "    90% {\n",
              "      border-color: transparent;\n",
              "      border-bottom-color: var(--fill-color);\n",
              "    }\n",
              "  }\n",
              "</style>\n",
              "\n",
              "  <script>\n",
              "    async function quickchart(key) {\n",
              "      const quickchartButtonEl =\n",
              "        document.querySelector('#' + key + ' button');\n",
              "      quickchartButtonEl.disabled = true;  // To prevent multiple clicks.\n",
              "      quickchartButtonEl.classList.add('colab-df-spinner');\n",
              "      try {\n",
              "        const charts = await google.colab.kernel.invokeFunction(\n",
              "            'suggestCharts', [key], {});\n",
              "      } catch (error) {\n",
              "        console.error('Error during call to suggestCharts:', error);\n",
              "      }\n",
              "      quickchartButtonEl.classList.remove('colab-df-spinner');\n",
              "      quickchartButtonEl.classList.add('colab-df-quickchart-complete');\n",
              "    }\n",
              "    (() => {\n",
              "      let quickchartButtonEl =\n",
              "        document.querySelector('#df-ec876baf-eddf-4575-9271-338a5d19c306 button');\n",
              "      quickchartButtonEl.style.display =\n",
              "        google.colab.kernel.accessAllowed ? 'block' : 'none';\n",
              "    })();\n",
              "  </script>\n",
              "</div>\n",
              "\n",
              "  <div id=\"id_211c84eb-13e2-4fa8-9d87-57c3e890e02b\">\n",
              "    <style>\n",
              "      .colab-df-generate {\n",
              "        background-color: #E8F0FE;\n",
              "        border: none;\n",
              "        border-radius: 50%;\n",
              "        cursor: pointer;\n",
              "        display: none;\n",
              "        fill: #1967D2;\n",
              "        height: 32px;\n",
              "        padding: 0 0 0 0;\n",
              "        width: 32px;\n",
              "      }\n",
              "\n",
              "      .colab-df-generate:hover {\n",
              "        background-color: #E2EBFA;\n",
              "        box-shadow: 0px 1px 2px rgba(60, 64, 67, 0.3), 0px 1px 3px 1px rgba(60, 64, 67, 0.15);\n",
              "        fill: #174EA6;\n",
              "      }\n",
              "\n",
              "      [theme=dark] .colab-df-generate {\n",
              "        background-color: #3B4455;\n",
              "        fill: #D2E3FC;\n",
              "      }\n",
              "\n",
              "      [theme=dark] .colab-df-generate:hover {\n",
              "        background-color: #434B5C;\n",
              "        box-shadow: 0px 1px 3px 1px rgba(0, 0, 0, 0.15);\n",
              "        filter: drop-shadow(0px 1px 2px rgba(0, 0, 0, 0.3));\n",
              "        fill: #FFFFFF;\n",
              "      }\n",
              "    </style>\n",
              "    <button class=\"colab-df-generate\" onclick=\"generateWithVariable('compare_props')\"\n",
              "            title=\"Generate code using this dataframe.\"\n",
              "            style=\"display:none;\">\n",
              "\n",
              "  <svg xmlns=\"http://www.w3.org/2000/svg\" height=\"24px\"viewBox=\"0 0 24 24\"\n",
              "       width=\"24px\">\n",
              "    <path d=\"M7,19H8.4L18.45,9,17,7.55,7,17.6ZM5,21V16.75L18.45,3.32a2,2,0,0,1,2.83,0l1.4,1.43a1.91,1.91,0,0,1,.58,1.4,1.91,1.91,0,0,1-.58,1.4L9.25,21ZM18.45,9,17,7.55Zm-12,3A5.31,5.31,0,0,0,4.9,8.1,5.31,5.31,0,0,0,1,6.5,5.31,5.31,0,0,0,4.9,4.9,5.31,5.31,0,0,0,6.5,1,5.31,5.31,0,0,0,8.1,4.9,5.31,5.31,0,0,0,12,6.5,5.46,5.46,0,0,0,6.5,12Z\"/>\n",
              "  </svg>\n",
              "    </button>\n",
              "    <script>\n",
              "      (() => {\n",
              "      const buttonEl =\n",
              "        document.querySelector('#id_211c84eb-13e2-4fa8-9d87-57c3e890e02b button.colab-df-generate');\n",
              "      buttonEl.style.display =\n",
              "        google.colab.kernel.accessAllowed ? 'block' : 'none';\n",
              "\n",
              "      buttonEl.onclick = () => {\n",
              "        google.colab.notebook.generateWithVariable('compare_props');\n",
              "      }\n",
              "      })();\n",
              "    </script>\n",
              "  </div>\n",
              "\n",
              "    </div>\n",
              "  </div>\n"
            ],
            "application/vnd.google.colaboratory.intrinsic+json": {
              "type": "dataframe",
              "variable_name": "compare_props",
              "summary": "{\n  \"name\": \"compare_props\",\n  \"rows\": 4,\n  \"fields\": [\n    {\n      \"column\": \"price_strat\",\n      \"properties\": {\n        \"dtype\": \"category\",\n        \"num_unique_values\": 4,\n        \"samples\": [\n          2,\n          4,\n          1\n        ],\n        \"semantic_type\": \"\",\n        \"description\": \"\"\n      }\n    },\n    {\n      \"column\": \"Geral\",\n      \"properties\": {\n        \"dtype\": \"number\",\n        \"std\": 0.11312941362673827,\n        \"min\": 0.13517674644958633,\n        \"max\": 0.3512631066672566,\n        \"num_unique_values\": 4,\n        \"samples\": [\n          0.3512631066672566,\n          0.13517674644958633,\n          0.17057027828164403\n        ],\n        \"semantic_type\": \"\",\n        \"description\": \"\"\n      }\n    },\n    {\n      \"column\": \"Estratificado\",\n      \"properties\": {\n        \"dtype\": \"number\",\n        \"std\": 0.11312434914943667,\n        \"min\": 0.13518117064106536,\n        \"max\": 0.3512586824757776,\n        \"num_unique_values\": 4,\n        \"samples\": [\n          0.3512586824757776,\n          0.13518117064106536,\n          0.17057470247312304\n        ],\n        \"semantic_type\": \"\",\n        \"description\": \"\"\n      }\n    },\n    {\n      \"column\": \"Aleatorio\",\n      \"properties\": {\n        \"dtype\": \"number\",\n        \"std\": 0.11361959060508574,\n        \"min\": 0.13498208202451,\n        \"max\": 0.35132504534796266,\n        \"num_unique_values\": 4,\n        \"samples\": [\n          0.35132504534796266,\n          0.13498208202451,\n          0.16984471087908684\n        ],\n        \"semantic_type\": \"\",\n        \"description\": \"\"\n      }\n    },\n    {\n      \"column\": \"Aleat\\u00f3rio %erro\",\n      \"properties\": {\n        \"dtype\": \"number\",\n        \"std\": 0.28395235507044725,\n        \"min\": -0.4253773927478335,\n        \"max\": 0.2502386296210233,\n        \"num_unique_values\": 4,\n        \"samples\": [\n          0.017633130132509223,\n          -0.14400733128232446,\n          -0.4253773927478335\n        ],\n        \"semantic_type\": \"\",\n        \"description\": \"\"\n      }\n    },\n    {\n      \"column\": \"Estratificado %erro\",\n      \"properties\": {\n        \"dtype\": \"number\",\n        \"std\": 0.0024453068154560347,\n        \"min\": -0.0012898898434059447,\n        \"max\": 0.003272893892798834,\n        \"num_unique_values\": 4,\n        \"samples\": [\n          -0.0012595092951812603,\n          0.003272893892798834,\n          0.0025937645899176687\n        ],\n        \"semantic_type\": \"\",\n        \"description\": \"\"\n      }\n    }\n  ]\n}"
            }
          },
          "metadata": {},
          "execution_count": 8
        }
      ]
    },
    {
      "cell_type": "markdown",
      "source": [
        "Disso podemos observar uma %erro menor com a amostra estratifica. Com isso podemos agora retirar a coluna minimum_nights_strat e continuar nosso projeto"
      ],
      "metadata": {
        "id": "zv_8ewoYp044"
      }
    },
    {
      "cell_type": "code",
      "source": [
        "for set_ in (Airbnb_train_data, test_set):\n",
        "    set_.drop(\"price_strat\", axis=1, inplace=True)"
      ],
      "metadata": {
        "id": "V0o8RGu-qEYz"
      },
      "execution_count": 8,
      "outputs": []
    },
    {
      "cell_type": "markdown",
      "source": [
        "# Explorando os Dados\n",
        "Vamos criar uma cópia do nosso conjunto de treino"
      ],
      "metadata": {
        "id": "DcHEbzaUjGue"
      }
    },
    {
      "cell_type": "code",
      "source": [
        "Airbnb_data = Airbnb_train_data.copy()"
      ],
      "metadata": {
        "id": "f2td9CX0P2uQ"
      },
      "execution_count": 9,
      "outputs": []
    },
    {
      "cell_type": "markdown",
      "source": [
        "Do comnado .info() podemos notar que algumas váriaveis não são numéricas, como por exemplo"
      ],
      "metadata": {
        "id": "WsnDR98pIjv1"
      }
    },
    {
      "cell_type": "code",
      "source": [
        "Airbnb_data['neighbourhood'].value_counts()"
      ],
      "metadata": {
        "colab": {
          "base_uri": "https://localhost:8080/",
          "height": 490
        },
        "id": "exUIf_o85SdI",
        "outputId": "d4f25152-1d5c-43e4-d8e6-5b457cbba9ac"
      },
      "execution_count": null,
      "outputs": [
        {
          "output_type": "execute_result",
          "data": {
            "text/plain": [
              "neighbourhood\n",
              "Unincorporated Areas    6435\n",
              "Hollywood               3537\n",
              "Primary Urban Center    3366\n",
              "Hennepin                3153\n",
              "Kihei-Makena            3083\n",
              "                        ... \n",
              "Hanapepe-Eleele            1\n",
              "Fischer Dev                1\n",
              "Presidio                   1\n",
              "Auraria                    1\n",
              "North Kennedy Tract        1\n",
              "Name: count, Length: 1440, dtype: int64"
            ],
            "text/html": [
              "<div>\n",
              "<style scoped>\n",
              "    .dataframe tbody tr th:only-of-type {\n",
              "        vertical-align: middle;\n",
              "    }\n",
              "\n",
              "    .dataframe tbody tr th {\n",
              "        vertical-align: top;\n",
              "    }\n",
              "\n",
              "    .dataframe thead th {\n",
              "        text-align: right;\n",
              "    }\n",
              "</style>\n",
              "<table border=\"1\" class=\"dataframe\">\n",
              "  <thead>\n",
              "    <tr style=\"text-align: right;\">\n",
              "      <th></th>\n",
              "      <th>count</th>\n",
              "    </tr>\n",
              "    <tr>\n",
              "      <th>neighbourhood</th>\n",
              "      <th></th>\n",
              "    </tr>\n",
              "  </thead>\n",
              "  <tbody>\n",
              "    <tr>\n",
              "      <th>Unincorporated Areas</th>\n",
              "      <td>6435</td>\n",
              "    </tr>\n",
              "    <tr>\n",
              "      <th>Hollywood</th>\n",
              "      <td>3537</td>\n",
              "    </tr>\n",
              "    <tr>\n",
              "      <th>Primary Urban Center</th>\n",
              "      <td>3366</td>\n",
              "    </tr>\n",
              "    <tr>\n",
              "      <th>Hennepin</th>\n",
              "      <td>3153</td>\n",
              "    </tr>\n",
              "    <tr>\n",
              "      <th>Kihei-Makena</th>\n",
              "      <td>3083</td>\n",
              "    </tr>\n",
              "    <tr>\n",
              "      <th>...</th>\n",
              "      <td>...</td>\n",
              "    </tr>\n",
              "    <tr>\n",
              "      <th>Hanapepe-Eleele</th>\n",
              "      <td>1</td>\n",
              "    </tr>\n",
              "    <tr>\n",
              "      <th>Fischer Dev</th>\n",
              "      <td>1</td>\n",
              "    </tr>\n",
              "    <tr>\n",
              "      <th>Presidio</th>\n",
              "      <td>1</td>\n",
              "    </tr>\n",
              "    <tr>\n",
              "      <th>Auraria</th>\n",
              "      <td>1</td>\n",
              "    </tr>\n",
              "    <tr>\n",
              "      <th>North Kennedy Tract</th>\n",
              "      <td>1</td>\n",
              "    </tr>\n",
              "  </tbody>\n",
              "</table>\n",
              "<p>1440 rows × 1 columns</p>\n",
              "</div><br><label><b>dtype:</b> int64</label>"
            ]
          },
          "metadata": {},
          "execution_count": 98
        }
      ]
    },
    {
      "cell_type": "code",
      "source": [
        "Airbnb_data['city'].value_counts()"
      ],
      "metadata": {
        "colab": {
          "base_uri": "https://localhost:8080/",
          "height": 994
        },
        "id": "U9_5m4RfPRST",
        "outputId": "739b0e56-343b-43d9-dbe4-5ba8f5875b3d"
      },
      "execution_count": null,
      "outputs": [
        {
          "output_type": "execute_result",
          "data": {
            "text/plain": [
              "city\n",
              "New York City        36520\n",
              "Los Angeles          25293\n",
              "Hawaii               17926\n",
              "San Diego             9932\n",
              "Broward County        8687\n",
              "Austin                8360\n",
              "Clark County          6730\n",
              "Washington D.C.       5883\n",
              "San Clara Country     5669\n",
              "San Francisco         5655\n",
              "Seattle               5265\n",
              "Twin Cities MSA       5151\n",
              "New Orleans           5149\n",
              "Chicago               5074\n",
              "Nashville             4902\n",
              "Portland              3402\n",
              "Denver                3390\n",
              "Rhode Island          3114\n",
              "Boston                2676\n",
              "Oakland               2572\n",
              "San Mateo County      2292\n",
              "Jersey City           2012\n",
              "Asheville             1645\n",
              "Santa Cruz County     1261\n",
              "Columbus              1146\n",
              "Cambridge              818\n",
              "Salem                  154\n",
              "Pacific Grove          146\n",
              "Name: count, dtype: int64"
            ],
            "text/html": [
              "<div>\n",
              "<style scoped>\n",
              "    .dataframe tbody tr th:only-of-type {\n",
              "        vertical-align: middle;\n",
              "    }\n",
              "\n",
              "    .dataframe tbody tr th {\n",
              "        vertical-align: top;\n",
              "    }\n",
              "\n",
              "    .dataframe thead th {\n",
              "        text-align: right;\n",
              "    }\n",
              "</style>\n",
              "<table border=\"1\" class=\"dataframe\">\n",
              "  <thead>\n",
              "    <tr style=\"text-align: right;\">\n",
              "      <th></th>\n",
              "      <th>count</th>\n",
              "    </tr>\n",
              "    <tr>\n",
              "      <th>city</th>\n",
              "      <th></th>\n",
              "    </tr>\n",
              "  </thead>\n",
              "  <tbody>\n",
              "    <tr>\n",
              "      <th>New York City</th>\n",
              "      <td>36520</td>\n",
              "    </tr>\n",
              "    <tr>\n",
              "      <th>Los Angeles</th>\n",
              "      <td>25293</td>\n",
              "    </tr>\n",
              "    <tr>\n",
              "      <th>Hawaii</th>\n",
              "      <td>17926</td>\n",
              "    </tr>\n",
              "    <tr>\n",
              "      <th>San Diego</th>\n",
              "      <td>9932</td>\n",
              "    </tr>\n",
              "    <tr>\n",
              "      <th>Broward County</th>\n",
              "      <td>8687</td>\n",
              "    </tr>\n",
              "    <tr>\n",
              "      <th>Austin</th>\n",
              "      <td>8360</td>\n",
              "    </tr>\n",
              "    <tr>\n",
              "      <th>Clark County</th>\n",
              "      <td>6730</td>\n",
              "    </tr>\n",
              "    <tr>\n",
              "      <th>Washington D.C.</th>\n",
              "      <td>5883</td>\n",
              "    </tr>\n",
              "    <tr>\n",
              "      <th>San Clara Country</th>\n",
              "      <td>5669</td>\n",
              "    </tr>\n",
              "    <tr>\n",
              "      <th>San Francisco</th>\n",
              "      <td>5655</td>\n",
              "    </tr>\n",
              "    <tr>\n",
              "      <th>Seattle</th>\n",
              "      <td>5265</td>\n",
              "    </tr>\n",
              "    <tr>\n",
              "      <th>Twin Cities MSA</th>\n",
              "      <td>5151</td>\n",
              "    </tr>\n",
              "    <tr>\n",
              "      <th>New Orleans</th>\n",
              "      <td>5149</td>\n",
              "    </tr>\n",
              "    <tr>\n",
              "      <th>Chicago</th>\n",
              "      <td>5074</td>\n",
              "    </tr>\n",
              "    <tr>\n",
              "      <th>Nashville</th>\n",
              "      <td>4902</td>\n",
              "    </tr>\n",
              "    <tr>\n",
              "      <th>Portland</th>\n",
              "      <td>3402</td>\n",
              "    </tr>\n",
              "    <tr>\n",
              "      <th>Denver</th>\n",
              "      <td>3390</td>\n",
              "    </tr>\n",
              "    <tr>\n",
              "      <th>Rhode Island</th>\n",
              "      <td>3114</td>\n",
              "    </tr>\n",
              "    <tr>\n",
              "      <th>Boston</th>\n",
              "      <td>2676</td>\n",
              "    </tr>\n",
              "    <tr>\n",
              "      <th>Oakland</th>\n",
              "      <td>2572</td>\n",
              "    </tr>\n",
              "    <tr>\n",
              "      <th>San Mateo County</th>\n",
              "      <td>2292</td>\n",
              "    </tr>\n",
              "    <tr>\n",
              "      <th>Jersey City</th>\n",
              "      <td>2012</td>\n",
              "    </tr>\n",
              "    <tr>\n",
              "      <th>Asheville</th>\n",
              "      <td>1645</td>\n",
              "    </tr>\n",
              "    <tr>\n",
              "      <th>Santa Cruz County</th>\n",
              "      <td>1261</td>\n",
              "    </tr>\n",
              "    <tr>\n",
              "      <th>Columbus</th>\n",
              "      <td>1146</td>\n",
              "    </tr>\n",
              "    <tr>\n",
              "      <th>Cambridge</th>\n",
              "      <td>818</td>\n",
              "    </tr>\n",
              "    <tr>\n",
              "      <th>Salem</th>\n",
              "      <td>154</td>\n",
              "    </tr>\n",
              "    <tr>\n",
              "      <th>Pacific Grove</th>\n",
              "      <td>146</td>\n",
              "    </tr>\n",
              "  </tbody>\n",
              "</table>\n",
              "</div><br><label><b>dtype:</b> int64</label>"
            ]
          },
          "metadata": {},
          "execution_count": 99
        }
      ]
    },
    {
      "cell_type": "markdown",
      "source": [
        "e também"
      ],
      "metadata": {
        "id": "KV6hQhQ9It2q"
      }
    },
    {
      "cell_type": "code",
      "source": [
        "Airbnb_data['room_type'].value_counts()"
      ],
      "metadata": {
        "colab": {
          "base_uri": "https://localhost:8080/",
          "height": 241
        },
        "id": "eXVjTsgzIwtw",
        "outputId": "85f5b2a5-7154-40f7-fe40-c64c93486a32"
      },
      "execution_count": null,
      "outputs": [
        {
          "output_type": "execute_result",
          "data": {
            "text/plain": [
              "room_type\n",
              "Entire home/apt    123359\n",
              "Private room        52654\n",
              "Shared room          3243\n",
              "Hotel room           1568\n",
              "Name: count, dtype: int64"
            ],
            "text/html": [
              "<div>\n",
              "<style scoped>\n",
              "    .dataframe tbody tr th:only-of-type {\n",
              "        vertical-align: middle;\n",
              "    }\n",
              "\n",
              "    .dataframe tbody tr th {\n",
              "        vertical-align: top;\n",
              "    }\n",
              "\n",
              "    .dataframe thead th {\n",
              "        text-align: right;\n",
              "    }\n",
              "</style>\n",
              "<table border=\"1\" class=\"dataframe\">\n",
              "  <thead>\n",
              "    <tr style=\"text-align: right;\">\n",
              "      <th></th>\n",
              "      <th>count</th>\n",
              "    </tr>\n",
              "    <tr>\n",
              "      <th>room_type</th>\n",
              "      <th></th>\n",
              "    </tr>\n",
              "  </thead>\n",
              "  <tbody>\n",
              "    <tr>\n",
              "      <th>Entire home/apt</th>\n",
              "      <td>123359</td>\n",
              "    </tr>\n",
              "    <tr>\n",
              "      <th>Private room</th>\n",
              "      <td>52654</td>\n",
              "    </tr>\n",
              "    <tr>\n",
              "      <th>Shared room</th>\n",
              "      <td>3243</td>\n",
              "    </tr>\n",
              "    <tr>\n",
              "      <th>Hotel room</th>\n",
              "      <td>1568</td>\n",
              "    </tr>\n",
              "  </tbody>\n",
              "</table>\n",
              "</div><br><label><b>dtype:</b> int64</label>"
            ]
          },
          "metadata": {},
          "execution_count": 100
        }
      ]
    },
    {
      "cell_type": "markdown",
      "source": [
        "Essas são colunas que teremos que transforma-las em numéricas, pois intuitivamente podem influênciar o preço de Airbnbs."
      ],
      "metadata": {
        "id": "IGbefKz7I1aA"
      }
    },
    {
      "cell_type": "markdown",
      "source": [
        "Vamos fazer uma breve investigação se a feature city e a room-type pode realmente influenciar na feature price. Para isso iremos separar o conjunto de dados somente as linhas em que a cidade é Denver e o room-type Private room e analisar o preço nesta cidade"
      ],
      "metadata": {
        "id": "7UuAvrd8ZkYw"
      }
    },
    {
      "cell_type": "code",
      "source": [
        "Y = Airbnb_data.loc[Airbnb_data[\"room_type\"] == \"Private room\"]"
      ],
      "metadata": {
        "id": "RFxTuiFlOjrw"
      },
      "execution_count": null,
      "outputs": []
    },
    {
      "cell_type": "code",
      "source": [
        "Y.info()"
      ],
      "metadata": {
        "colab": {
          "base_uri": "https://localhost:8080/"
        },
        "id": "rJchOXEbO12m",
        "outputId": "9df32b34-f382-45df-f118-c62ff3127337"
      },
      "execution_count": null,
      "outputs": [
        {
          "output_type": "stream",
          "name": "stdout",
          "text": [
            "<class 'pandas.core.frame.DataFrame'>\n",
            "Index: 52654 entries, 78868 to 151634\n",
            "Data columns (total 17 columns):\n",
            " #   Column                          Non-Null Count  Dtype  \n",
            "---  ------                          --------------  -----  \n",
            " 0   id                              52654 non-null  int64  \n",
            " 1   name                            52643 non-null  object \n",
            " 2   host_id                         52654 non-null  int64  \n",
            " 3   host_name                       52641 non-null  object \n",
            " 4   neighbourhood_group             28222 non-null  object \n",
            " 5   neighbourhood                   52654 non-null  object \n",
            " 6   latitude                        52654 non-null  float64\n",
            " 7   longitude                       52654 non-null  float64\n",
            " 8   room_type                       52654 non-null  object \n",
            " 9   price                           52654 non-null  int64  \n",
            " 10  minimum_nights                  52654 non-null  int64  \n",
            " 11  number_of_reviews               52654 non-null  int64  \n",
            " 12  last_review                     40818 non-null  object \n",
            " 13  reviews_per_month               40818 non-null  float64\n",
            " 14  calculated_host_listings_count  52654 non-null  int64  \n",
            " 15  availability_365                52654 non-null  int64  \n",
            " 16  city                            52654 non-null  object \n",
            "dtypes: float64(3), int64(7), object(7)\n",
            "memory usage: 7.2+ MB\n"
          ]
        }
      ]
    },
    {
      "cell_type": "code",
      "source": [
        "Y[\"price\"].describe()"
      ],
      "metadata": {
        "colab": {
          "base_uri": "https://localhost:8080/",
          "height": 335
        },
        "id": "LuZMxK9XO5_F",
        "outputId": "91c41f8e-d0b9-4265-9c2f-13f0c26e90c0"
      },
      "execution_count": null,
      "outputs": [
        {
          "output_type": "execute_result",
          "data": {
            "text/plain": [
              "count    52654.000000\n",
              "mean       106.116079\n",
              "std        325.479615\n",
              "min          0.000000\n",
              "25%         49.000000\n",
              "50%         65.000000\n",
              "75%         99.000000\n",
              "max      11500.000000\n",
              "Name: price, dtype: float64"
            ],
            "text/html": [
              "<div>\n",
              "<style scoped>\n",
              "    .dataframe tbody tr th:only-of-type {\n",
              "        vertical-align: middle;\n",
              "    }\n",
              "\n",
              "    .dataframe tbody tr th {\n",
              "        vertical-align: top;\n",
              "    }\n",
              "\n",
              "    .dataframe thead th {\n",
              "        text-align: right;\n",
              "    }\n",
              "</style>\n",
              "<table border=\"1\" class=\"dataframe\">\n",
              "  <thead>\n",
              "    <tr style=\"text-align: right;\">\n",
              "      <th></th>\n",
              "      <th>price</th>\n",
              "    </tr>\n",
              "  </thead>\n",
              "  <tbody>\n",
              "    <tr>\n",
              "      <th>count</th>\n",
              "      <td>52654.000000</td>\n",
              "    </tr>\n",
              "    <tr>\n",
              "      <th>mean</th>\n",
              "      <td>106.116079</td>\n",
              "    </tr>\n",
              "    <tr>\n",
              "      <th>std</th>\n",
              "      <td>325.479615</td>\n",
              "    </tr>\n",
              "    <tr>\n",
              "      <th>min</th>\n",
              "      <td>0.000000</td>\n",
              "    </tr>\n",
              "    <tr>\n",
              "      <th>25%</th>\n",
              "      <td>49.000000</td>\n",
              "    </tr>\n",
              "    <tr>\n",
              "      <th>50%</th>\n",
              "      <td>65.000000</td>\n",
              "    </tr>\n",
              "    <tr>\n",
              "      <th>75%</th>\n",
              "      <td>99.000000</td>\n",
              "    </tr>\n",
              "    <tr>\n",
              "      <th>max</th>\n",
              "      <td>11500.000000</td>\n",
              "    </tr>\n",
              "  </tbody>\n",
              "</table>\n",
              "</div><br><label><b>dtype:</b> float64</label>"
            ]
          },
          "metadata": {},
          "execution_count": 10
        }
      ]
    },
    {
      "cell_type": "markdown",
      "source": [
        "Podemos notar uma grande diferença dos preços quando comparado com os dados originais"
      ],
      "metadata": {
        "id": "dZBKDaxG-aYg"
      }
    },
    {
      "cell_type": "code",
      "source": [
        "X = Airbnb_data.loc[Airbnb_data[\"city\"] == \"Denver\"]"
      ],
      "metadata": {
        "id": "VNGAWv4wOFnf"
      },
      "execution_count": null,
      "outputs": []
    },
    {
      "cell_type": "code",
      "source": [
        "X.info()"
      ],
      "metadata": {
        "colab": {
          "base_uri": "https://localhost:8080/"
        },
        "id": "A5VbNXBWPIuS",
        "outputId": "df67c869-ed8e-456f-d786-607a75bd361a"
      },
      "execution_count": null,
      "outputs": [
        {
          "output_type": "stream",
          "name": "stdout",
          "text": [
            "<class 'pandas.core.frame.DataFrame'>\n",
            "Index: 3390 entries, 47661 to 48019\n",
            "Data columns (total 19 columns):\n",
            " #   Column                          Non-Null Count  Dtype   \n",
            "---  ------                          --------------  -----   \n",
            " 0   id                              3390 non-null   int64   \n",
            " 1   name                            3390 non-null   object  \n",
            " 2   host_id                         3390 non-null   int64   \n",
            " 3   host_name                       3390 non-null   object  \n",
            " 4   neighbourhood_group             0 non-null      object  \n",
            " 5   neighbourhood                   3390 non-null   object  \n",
            " 6   latitude                        3390 non-null   float64 \n",
            " 7   longitude                       3390 non-null   float64 \n",
            " 8   room_type                       3390 non-null   object  \n",
            " 9   price                           3390 non-null   int64   \n",
            " 10  minimum_nights                  3390 non-null   int64   \n",
            " 11  number_of_reviews               3390 non-null   int64   \n",
            " 12  last_review                     2896 non-null   object  \n",
            " 13  reviews_per_month               2896 non-null   float64 \n",
            " 14  calculated_host_listings_count  3390 non-null   int64   \n",
            " 15  availability_365                3390 non-null   int64   \n",
            " 16  city                            3390 non-null   object  \n",
            " 17  minimum_nights_strat            3390 non-null   category\n",
            " 18  number_of_reviews_strat         3390 non-null   category\n",
            "dtypes: category(2), float64(3), int64(7), object(7)\n",
            "memory usage: 483.7+ KB\n"
          ]
        }
      ]
    },
    {
      "cell_type": "code",
      "source": [
        "X[\"price\"].describe()"
      ],
      "metadata": {
        "colab": {
          "base_uri": "https://localhost:8080/",
          "height": 335
        },
        "id": "HlXZYadx5kXX",
        "outputId": "60a48f1f-8521-419f-b25d-e39643ef5814"
      },
      "execution_count": null,
      "outputs": [
        {
          "output_type": "execute_result",
          "data": {
            "text/plain": [
              "count     3390.000000\n",
              "mean       156.375516\n",
              "std        294.986397\n",
              "min         10.000000\n",
              "25%         70.000000\n",
              "50%        100.000000\n",
              "75%        160.000000\n",
              "max      10000.000000\n",
              "Name: price, dtype: float64"
            ],
            "text/html": [
              "<div>\n",
              "<style scoped>\n",
              "    .dataframe tbody tr th:only-of-type {\n",
              "        vertical-align: middle;\n",
              "    }\n",
              "\n",
              "    .dataframe tbody tr th {\n",
              "        vertical-align: top;\n",
              "    }\n",
              "\n",
              "    .dataframe thead th {\n",
              "        text-align: right;\n",
              "    }\n",
              "</style>\n",
              "<table border=\"1\" class=\"dataframe\">\n",
              "  <thead>\n",
              "    <tr style=\"text-align: right;\">\n",
              "      <th></th>\n",
              "      <th>price</th>\n",
              "    </tr>\n",
              "  </thead>\n",
              "  <tbody>\n",
              "    <tr>\n",
              "      <th>count</th>\n",
              "      <td>3390.000000</td>\n",
              "    </tr>\n",
              "    <tr>\n",
              "      <th>mean</th>\n",
              "      <td>156.375516</td>\n",
              "    </tr>\n",
              "    <tr>\n",
              "      <th>std</th>\n",
              "      <td>294.986397</td>\n",
              "    </tr>\n",
              "    <tr>\n",
              "      <th>min</th>\n",
              "      <td>10.000000</td>\n",
              "    </tr>\n",
              "    <tr>\n",
              "      <th>25%</th>\n",
              "      <td>70.000000</td>\n",
              "    </tr>\n",
              "    <tr>\n",
              "      <th>50%</th>\n",
              "      <td>100.000000</td>\n",
              "    </tr>\n",
              "    <tr>\n",
              "      <th>75%</th>\n",
              "      <td>160.000000</td>\n",
              "    </tr>\n",
              "    <tr>\n",
              "      <th>max</th>\n",
              "      <td>10000.000000</td>\n",
              "    </tr>\n",
              "  </tbody>\n",
              "</table>\n",
              "</div><br><label><b>dtype:</b> float64</label>"
            ]
          },
          "metadata": {},
          "execution_count": 103
        }
      ]
    },
    {
      "cell_type": "code",
      "source": [
        "X.hist(bins=50, figsize=(20,15))\n",
        "plt.show()"
      ],
      "metadata": {
        "colab": {
          "base_uri": "https://localhost:8080/",
          "height": 766
        },
        "id": "epoBrgQ5Pb3b",
        "outputId": "192b97d9-4b95-4273-89fb-91f9d05679f4"
      },
      "execution_count": null,
      "outputs": [
        {
          "output_type": "display_data",
          "data": {
            "text/plain": [
              "<Figure size 2000x1500 with 12 Axes>"
            ],
            "image/png": "[encoded data removed]"
          },
          "metadata": {}
        }
      ]
    },
    {
      "cell_type": "markdown",
      "source": [
        "Disso temos que realmente a feature city pode influenciar na feature preço, pois a média dos preços em Denver é aproximadaemnte 50 dolares mais barata quando comparada com a média de todas as cidades juntas."
      ],
      "metadata": {
        "id": "bB39OaWzZ6tl"
      }
    },
    {
      "cell_type": "markdown",
      "source": [
        "Agora com a interpretação inicial feita, podemos fazer a matriz de correlação e ver se há uma boa correlação entre as features"
      ],
      "metadata": {
        "id": "Pa4JVaTkJ1h6"
      }
    },
    {
      "cell_type": "code",
      "source": [
        "Airbnb_copy = Airbnb_data.copy()\n",
        "Airbnb_num = Airbnb_copy[['host_id', 'price', 'minimum_nights', 'latitude', 'longitude', 'number_of_reviews', 'reviews_per_month', 'calculated_host_listings_count', 'availability_365' ]]\n",
        "corr_matrix = Airbnb_num.corr()\n",
        "\n",
        "import seaborn as sns\n",
        "\n",
        "\n",
        "corr_matrix = round(corr_matrix, 2)\n",
        "mask = np.triu(np.ones_like(corr_matrix, dtype=bool))\n",
        "\n",
        "fig, ax = plt.subplots(1, 1, figsize=(18, 8))\n",
        "sns.heatmap(corr_matrix,\n",
        "            vmin=-1,\n",
        "            vmax=1,\n",
        "            cmap='RdBu_r',\n",
        "            annot=True,\n",
        "            ax=ax,\n",
        "            mask=mask)\n",
        "plt.show()"
      ],
      "metadata": {
        "colab": {
          "base_uri": "https://localhost:8080/",
          "height": 592
        },
        "id": "ScjIut27DNV2",
        "outputId": "1f79600b-96a1-46a4-ddd5-c73f10933380"
      },
      "execution_count": null,
      "outputs": [
        {
          "output_type": "display_data",
          "data": {
            "text/plain": [
              "<Figure size 1800x800 with 2 Axes>"
            ],
            "image/png": "[encoded data removed]"
          },
          "metadata": {}
        }
      ]
    },
    {
      "cell_type": "markdown",
      "source": [
        "Da matriz de correlação vemos que as features não possuem uma correlaçao muito alta enem muito baixa o que pode dificultar nossas previsões no futuro."
      ],
      "metadata": {
        "id": "WtTQj11rbJy1"
      }
    },
    {
      "cell_type": "markdown",
      "source": [
        "# Preparando os dados para os modelos\n",
        "\n",
        "Agora iremos fazer o processamento dos dados no conjunto de treinamento. Para isso criaremos uma cópia dos dados, e separar a feature que queremos prever para mais tarde fazer a validação"
      ],
      "metadata": {
        "id": "wDGxk5n8S0AE"
      }
    },
    {
      "cell_type": "code",
      "source": [
        "Airbnb_new = Airbnb_train_data.drop([\"price\", \"neighbourhood_group\", \"name\", \"last_review\", \"host_name\"], axis=1)\n",
        "Airbnb_price_labels = Airbnb_data[\"price\"].copy()\n",
        "Airbnb_new_num = Airbnb_new[['host_id', 'minimum_nights', 'latitude', 'longitude', 'number_of_reviews', 'reviews_per_month', 'calculated_host_listings_count', 'availability_365' ]]"
      ],
      "metadata": {
        "id": "RYo9ld4C5jx9"
      },
      "execution_count": 10,
      "outputs": []
    },
    {
      "cell_type": "markdown",
      "source": [
        "Retiraramos algumas features que julgamos que não irá influenciar no preço de Airbnb que são: \"name\", \"host_name\", \"neighbourhood_group\" e \"last_review\"."
      ],
      "metadata": {
        "id": "zcVD7S7VxvwT"
      }
    },
    {
      "cell_type": "markdown",
      "source": [
        "Para reescalar as variaveis, substiuir dados faltantes e tranformar o dtype das features para numérica, iremos precisar das seguintes bibliotecas"
      ],
      "metadata": {
        "id": "d4O1aimRQU9r"
      }
    },
    {
      "cell_type": "code",
      "source": [
        "from sklearn.pipeline import Pipeline\n",
        "from sklearn.preprocessing import StandardScaler  #StandardScaler serve para fazer a reescalar das variáveis\n",
        "\n",
        "try:\n",
        "    from sklearn.impute import SimpleImputer # Scikit-Learn 0.20+\n",
        "    print(\"Scikit-Learn 0.20+\")\n",
        "except ImportError:\n",
        "    from sklearn.preprocessing import Imputer as SimpleImputer\n",
        "    print(\"Scikit-Learn antes do 0.20\")\n",
        "\n",
        "try:\n",
        "    from sklearn.compose import ColumnTransformer\n",
        "except ImportError:\n",
        "    from future_encoders import ColumnTransformer # Scikit-Learn < 0.20\n",
        "\n",
        "try:\n",
        "    from sklearn.preprocessing import OrdinalEncoder # gera um ImportError se Scikit-Learn < 0.20\n",
        "    from sklearn.preprocessing import OneHotEncoder\n",
        "except ImportError:\n",
        "    from future_encoders import OneHotEncoder # Scikit-Learn < 0.20\n"
      ],
      "metadata": {
        "colab": {
          "base_uri": "https://localhost:8080/"
        },
        "id": "kodHFiURUCYT",
        "outputId": "151f67ed-bbb3-4014-d850-712074d76264"
      },
      "execution_count": 11,
      "outputs": [
        {
          "output_type": "stream",
          "name": "stdout",
          "text": [
            "Scikit-Learn 0.20+\n"
          ]
        }
      ]
    },
    {
      "cell_type": "markdown",
      "source": [
        "Com isso podemos criar um pipeline para preenchimento de dados faltantes seguinte forma"
      ],
      "metadata": {
        "id": "4oIl38_wUex6"
      }
    },
    {
      "cell_type": "code",
      "source": [
        "num_pipeline = Pipeline([\n",
        "        ('imputer', SimpleImputer(strategy=\"median\")),\n",
        "        ('std_scaler', StandardScaler()),\n",
        "    ])\n",
        "\n",
        "#Airbnb_num_tr = num_pipeline.fit_transform(Airbnb_new_num)\n",
        "#Airbnb_num_tr.shape"
      ],
      "metadata": {
        "id": "oX5w33In-507"
      },
      "execution_count": 12,
      "outputs": []
    },
    {
      "cell_type": "markdown",
      "source": [
        "Além disso podemos criar um novo pipeline em que além disso também irá deixar todas variaveis numéricas utilizando o comando OneHotEncoder()"
      ],
      "metadata": {
        "id": "dRniw2r2Qdzp"
      }
    },
    {
      "cell_type": "code",
      "source": [
        "num_attribs = list(Airbnb_new_num)\n",
        "cat_attribs = [\"room_type\", \"city\"]\n",
        "\n",
        "#Este é o pipeline completo!\n",
        "full_pipeline = ColumnTransformer([\n",
        "        (\"num\", num_pipeline, num_attribs), #um pipeline dentro do outro\n",
        "        (\"cat\", OneHotEncoder(), cat_attribs),\n",
        "    ])\n",
        "\n",
        "#Airbnb_prepared = full_pipeline.fit_transform(Airbn_data)"
      ],
      "metadata": {
        "id": "uLDGEkMH_MDN"
      },
      "execution_count": 13,
      "outputs": []
    },
    {
      "cell_type": "markdown",
      "source": [
        "Agora podemos separar nosso conjunto de treino para fazer a validação, e nesse conjunto separado fazer a preparação para os dados do modelo"
      ],
      "metadata": {
        "id": "ibrfQLN7Q1Jg"
      }
    },
    {
      "cell_type": "code",
      "source": [
        "Airbnb_data_treino, Airbnb_data_teste, Airbnb_label_train, Airbnb_labels_test  = train_test_split(Airbnb_new, Airbnb_price_labels,\n",
        "                                       test_size=0.2, #20% para teste\n",
        "                                       random_state=seed)"
      ],
      "metadata": {
        "id": "IKjL-3J9OoOg"
      },
      "execution_count": 14,
      "outputs": []
    },
    {
      "cell_type": "markdown",
      "source": [
        "Vamos ver o tamanho dos dados transformados"
      ],
      "metadata": {
        "id": "-iw3Lzb5v-iu"
      }
    },
    {
      "cell_type": "code",
      "source": [
        "Airbnb_prepared = full_pipeline.fit_transform(Airbnb_data_treino)\n",
        "Airbnb_test_prepared = full_pipeline.transform(Airbnb_data_teste)\n",
        "Airbnb_prepared.shape"
      ],
      "metadata": {
        "colab": {
          "base_uri": "https://localhost:8080/"
        },
        "id": "DupBrAxoFf5j",
        "outputId": "e4f4ebf4-abe4-4506-b5c5-3597d6c50ae3"
      },
      "execution_count": null,
      "outputs": [
        {
          "output_type": "execute_result",
          "data": {
            "text/plain": [
              "(144659, 41)"
            ]
          },
          "metadata": {},
          "execution_count": 38
        }
      ]
    },
    {
      "cell_type": "markdown",
      "source": [
        "Observe que agora o número de colunas é 41, o que faz sentido pelo uso do OneHotEnconder()"
      ],
      "metadata": {
        "id": "WmBeqJG5wI1g"
      }
    },
    {
      "cell_type": "markdown",
      "source": [
        "# Treinando e selecionando um Modelo\n",
        "\n",
        "Agora com nossos dados prontos para os modelos, podemos testar diferentes métodos e compara-los. Aqui daremos os conjuntos Airbnb_data_treino e Airbnb_label_train para o treinamento dos modelos.\n",
        "\n",
        "Primeiro testando o método de **Regressão Linear**"
      ],
      "metadata": {
        "id": "MWFPkfrKVE9G"
      }
    },
    {
      "cell_type": "code",
      "source": [
        "pipeline_linreg = Pipeline([\n",
        "    ('pre_pripe', full_pipeline),\n",
        "    ('regressor', LinearRegression())\n",
        "])\n",
        "\n",
        "lin_reg = pipeline_linreg.fit(Airbnb_data_treino, Airbnb_label_train) #Treinar modelo"
      ],
      "metadata": {
        "id": "RjZfuOG1RcCt"
      },
      "execution_count": null,
      "outputs": []
    },
    {
      "cell_type": "markdown",
      "source": [
        "Vamos ver como o modelo performa para prever 5 preços de Airbnb do conjunto de teste"
      ],
      "metadata": {
        "id": "tzoxzpj7vvy8"
      }
    },
    {
      "cell_type": "code",
      "source": [
        "some_data = Airbnb_data_teste.iloc[:5]\n",
        "some_labels = Airbnb_labels_test.iloc[:5]\n",
        "\n",
        "print(\"Predictions:\", lin_reg.predict(some_data))"
      ],
      "metadata": {
        "id": "bTUHSPNO_N7X",
        "colab": {
          "base_uri": "https://localhost:8080/"
        },
        "outputId": "f5cac624-6fd3-43a6-82c7-bb90852908db"
      },
      "execution_count": null,
      "outputs": [
        {
          "output_type": "stream",
          "name": "stdout",
          "text": [
            "Predictions: [299.56926895 279.6392675  274.90835899 324.33893222  80.93224212]\n"
          ]
        }
      ]
    },
    {
      "cell_type": "code",
      "source": [
        "print(\"Labels:\", list(some_labels))"
      ],
      "metadata": {
        "colab": {
          "base_uri": "https://localhost:8080/"
        },
        "id": "tTeP4tB5Ivi-",
        "outputId": "856995c1-7455-466e-8ddf-ee99cbbd0a23"
      },
      "execution_count": null,
      "outputs": [
        {
          "output_type": "stream",
          "name": "stdout",
          "text": [
            "Labels: [181, 128, 379, 900, 59]\n"
          ]
        }
      ]
    },
    {
      "cell_type": "markdown",
      "source": [
        "É possível notar uma dificuldade do método de prever os preços, principalmente do preço que era 900. Agora vamos ver o erro MSE para o conjunto de teste"
      ],
      "metadata": {
        "id": "l4KpNMstwjBr"
      }
    },
    {
      "cell_type": "code",
      "source": [
        "Airbnb_predictions = lin_reg.predict(Airbnb_test_prepared)\n",
        "lin_mse = MSE(Airbnb_labels_test, Airbnb_predictions)\n",
        "lin_rmse = np.sqrt(lin_mse)\n",
        "lin_rmse #"
      ],
      "metadata": {
        "colab": {
          "base_uri": "https://localhost:8080/"
        },
        "id": "AlitilrHJM8I",
        "outputId": "4587238a-de49-41a3-f13d-4715996d03ea"
      },
      "execution_count": null,
      "outputs": [
        {
          "output_type": "execute_result",
          "data": {
            "text/plain": [
              "517.0619839202463"
            ]
          },
          "metadata": {},
          "execution_count": 113
        }
      ]
    },
    {
      "cell_type": "markdown",
      "source": [
        "517!! Um erro bem alto. Provavelmente o método de regressão linear não é um bom generalizador para o problema.\n",
        "\n",
        "Agora vamos testar o método **Árvore de Decisão**"
      ],
      "metadata": {
        "id": "Fw6lTA1DxBhw"
      }
    },
    {
      "cell_type": "code",
      "source": [
        "#tree_reg = DecisionTreeRegressor(random_state= seed)\n",
        "#tree_reg.fit(Airbnb_prepared, Airbnb_label_train)\n",
        "\n",
        "pipeline_treereg = Pipeline([\n",
        "    ('pre_pripe', full_pipeline),\n",
        "    ('regressor', DecisionTreeRegressor(random_state= seed))\n",
        "])\n",
        "\n",
        "tree_reg = pipeline_treereg.fit(Airbnb_data_treino, Airbnb_label_train) #Treinar modelo\n"
      ],
      "metadata": {
        "id": "Ow9hStiNJjgx"
      },
      "execution_count": null,
      "outputs": []
    },
    {
      "cell_type": "markdown",
      "source": [
        "Vamos ver como esse método prever os mesmos 5 preços de Airbnb"
      ],
      "metadata": {
        "id": "MbFzYVG61fPD"
      }
    },
    {
      "cell_type": "code",
      "source": [
        "some_data = Airbnb_data_teste.iloc[:5]\n",
        "some_labels = Airbnb_labels_test.iloc[:5]\n",
        "\n",
        "\n",
        "print(\"Predictions:\", tree_reg.predict(some_data))"
      ],
      "metadata": {
        "colab": {
          "base_uri": "https://localhost:8080/"
        },
        "id": "T_BkQA6--65u",
        "outputId": "554f3dc5-01d3-4aea-a5eb-ea88c7a82ea0"
      },
      "execution_count": null,
      "outputs": [
        {
          "output_type": "stream",
          "name": "stdout",
          "text": [
            "Predictions: [ 176.  450.  229. 3500.   35.]\n"
          ]
        }
      ]
    },
    {
      "cell_type": "code",
      "source": [
        "print(\"Labels:\", list(some_labels))"
      ],
      "metadata": {
        "colab": {
          "base_uri": "https://localhost:8080/"
        },
        "id": "d5zP2Nhl_PE5",
        "outputId": "a9e82602-e2bd-411b-e045-656656fa5ad0"
      },
      "execution_count": null,
      "outputs": [
        {
          "output_type": "stream",
          "name": "stdout",
          "text": [
            "Labels: [181, 128, 379, 900, 59]\n"
          ]
        }
      ]
    },
    {
      "cell_type": "markdown",
      "source": [
        "Das previsões vemos também uma discrepância com os preços originais, e no airbnb com diária 900 ele acabou prevendo um preço muito maior."
      ],
      "metadata": {
        "id": "o19NAzyly5Wo"
      }
    },
    {
      "cell_type": "code",
      "source": [
        "Airbnb_predictions = tree_reg.predict(Airbnb_test_prepared)\n",
        "tree_mse = MSE(Airbnb_labels_test, Airbnb_predictions)\n",
        "tree_rmse = np.sqrt(tree_mse)\n",
        "tree_rmse"
      ],
      "metadata": {
        "colab": {
          "base_uri": "https://localhost:8080/"
        },
        "id": "0KfKWwW2JuaR",
        "outputId": "ad05cce5-0f6e-4152-ef62-fc36c77d7597"
      },
      "execution_count": null,
      "outputs": [
        {
          "output_type": "execute_result",
          "data": {
            "text/plain": [
              "593.4100553972258"
            ]
          },
          "metadata": {},
          "execution_count": 117
        }
      ]
    },
    {
      "cell_type": "markdown",
      "source": [
        "593 !! Um erro maior que o da regressão linear. Será que não estamos tratando os dados da forma correta? Ou pelo fato das variaveis ter pouca correlação está dificultando os métodos de fazerem previsões?\n",
        "\n",
        "Vamos agora testar o método **Foresta Aleatória**"
      ],
      "metadata": {
        "id": "rQqCoCFSzTSd"
      }
    },
    {
      "cell_type": "code",
      "source": [
        "#forest_reg = RandomForestRegressor(n_estimators=10, random_state=42)\n",
        "#forest_reg.fit(Airbnb_prepared, Airbnb_label_train) #Treinar modelo\n",
        "\n",
        "pipeline_forestreg = Pipeline([\n",
        "    ('pre_pripe', full_pipeline),\n",
        "    ('regressor', RandomForestRegressor(n_estimators=10, random_state=42))\n",
        "])\n",
        "\n",
        "forest_reg = pipeline_forestreg.fit(Airbnb_data_treino, Airbnb_label_train) #Treinar modelo\n"
      ],
      "metadata": {
        "id": "vV3NA2hvKmOz"
      },
      "execution_count": 15,
      "outputs": []
    },
    {
      "cell_type": "markdown",
      "source": [
        "Testando ele também para prever os 5 preços, temos"
      ],
      "metadata": {
        "id": "8yZS8I6K1vVM"
      }
    },
    {
      "cell_type": "code",
      "source": [
        "some_data = Airbnb_data_teste.iloc[:5]\n",
        "some_labels = Airbnb_labels_test.iloc[:5]\n",
        "#some_data_prepared = full_pipeline.transform(some_data) #Full pipeline\n",
        "\n",
        "print(\"Predictions:\", forest_reg.predict(some_data))"
      ],
      "metadata": {
        "colab": {
          "base_uri": "https://localhost:8080/"
        },
        "id": "r_I-lnVOz55O",
        "outputId": "60d86149-f1eb-410e-aa1f-c283a92abc6c"
      },
      "execution_count": 16,
      "outputs": [
        {
          "output_type": "stream",
          "name": "stdout",
          "text": [
            "Predictions: [185.9 173.8 208.1 921.1  50.2]\n"
          ]
        }
      ]
    },
    {
      "cell_type": "code",
      "source": [
        "print(\"Labels:\", list(some_labels))"
      ],
      "metadata": {
        "colab": {
          "base_uri": "https://localhost:8080/"
        },
        "id": "u4J-DLmJ0Iuy",
        "outputId": "b462801d-c31b-46fe-dd2a-f1687d60dd97"
      },
      "execution_count": 17,
      "outputs": [
        {
          "output_type": "stream",
          "name": "stdout",
          "text": [
            "Labels: [181, 128, 379, 900, 59]\n"
          ]
        }
      ]
    },
    {
      "cell_type": "markdown",
      "source": [
        "É possível notar uma melhor previsão em quase todos os preços quando comparado com os outros. Vejamos o erro MSE"
      ],
      "metadata": {
        "id": "vVkAQT-K10KZ"
      }
    },
    {
      "cell_type": "code",
      "source": [
        "Airbnb_predictions = forest_reg.predict(Airbnb_data_teste) #Predizer\n",
        "forest_mse = MSE(Airbnb_labels_test, Airbnb_predictions)\n",
        "forest_rmse = np.sqrt(forest_mse)\n",
        "forest_rmse"
      ],
      "metadata": {
        "colab": {
          "base_uri": "https://localhost:8080/"
        },
        "id": "WKxWuEbOKss2",
        "outputId": "62544938-5dc7-49b7-948d-84f3c08328db"
      },
      "execution_count": 18,
      "outputs": [
        {
          "output_type": "execute_result",
          "data": {
            "text/plain": [
              "461.9419934483353"
            ]
          },
          "metadata": {},
          "execution_count": 18
        }
      ]
    },
    {
      "cell_type": "markdown",
      "source": [
        "Notamos um erro também bem alto. Apesar deste erro alto, é o modelo que melhor performou, então iremos utilizar um pipeline para encontrar os melhores parâmetros para este modelo e para o Árvore de Decisão"
      ],
      "metadata": {
        "id": "ZJFHktH52L71"
      }
    },
    {
      "cell_type": "code",
      "source": [
        "pipeline = Pipeline([\n",
        "    ('pre_pripe', full_pipeline),\n",
        "    ('regressor', LinearRegression())\n",
        "])\n",
        "\n",
        "\n",
        "param_grid = [\n",
        "    {\n",
        "        'regressor': [RandomForestRegressor()],\n",
        "        'regressor__n_estimators': [100, 200],\n",
        "        'regressor__max_depth': [10, 20],\n",
        "        'regressor__min_samples_split': [5]\n",
        "    }\n",
        "]"
      ],
      "metadata": {
        "id": "N9kRcMuGbrO9"
      },
      "execution_count": null,
      "outputs": []
    },
    {
      "cell_type": "code",
      "source": [
        "from sklearn.model_selection import GridSearchCV\n",
        "\n",
        "grid_search = GridSearchCV(pipeline, param_grid, cv=5, scoring='neg_mean_squared_error')\n",
        "grid_search.fit(Airbnb_data_treino, Airbnb_label_train)\n"
      ],
      "metadata": {
        "id": "-8o3dpkR5NzO",
        "colab": {
          "base_uri": "https://localhost:8080/",
          "height": 293
        },
        "outputId": "47b0bd8b-c6c2-4720-e58f-0ffb78b992f6"
      },
      "execution_count": null,
      "outputs": [
        {
          "output_type": "execute_result",
          "data": {
            "text/plain": [
              "GridSearchCV(cv=3,\n",
              "             estimator=Pipeline(steps=[('pre_pripe',\n",
              "                                        ColumnTransformer(transformers=[('num',\n",
              "                                                                         Pipeline(steps=[('imputer',\n",
              "                                                                                          SimpleImputer(strategy='median')),\n",
              "                                                                                         ('std_scaler',\n",
              "                                                                                          StandardScaler())]),\n",
              "                                                                         ['host_id',\n",
              "                                                                          'id',\n",
              "                                                                          'minimum_nights',\n",
              "                                                                          'latitude',\n",
              "                                                                          'longitude',\n",
              "                                                                          'number_of_reviews',\n",
              "                                                                          'reviews_per_month',\n",
              "                                                                          'calculated_host_listings_count',\n",
              "                                                                          'availability_365']),\n",
              "                                                                        ('cat',\n",
              "                                                                         OneHotEncoder(),\n",
              "                                                                         ['room_type',\n",
              "                                                                          'city'])])),\n",
              "                                       ('regressor', LinearRegression())]),\n",
              "             param_grid=[{'regressor': [RandomForestRegressor()],\n",
              "                          'regressor__max_depth': [10, 20],\n",
              "                          'regressor__min_samples_split': [5],\n",
              "                          'regressor__n_estimators': [100, 200]}],\n",
              "             scoring='neg_mean_squared_error')"
            ],
            "text/html": [
              "<style>#sk-container-id-1 {\n",
              "  /* Definition of color scheme common for light and dark mode */\n",
              "  --sklearn-color-text: black;\n",
              "  --sklearn-color-line: gray;\n",
              "  /* Definition of color scheme for unfitted estimators */\n",
              "  --sklearn-color-unfitted-level-0: #fff5e6;\n",
              "  --sklearn-color-unfitted-level-1: #f6e4d2;\n",
              "  --sklearn-color-unfitted-level-2: #ffe0b3;\n",
              "  --sklearn-color-unfitted-level-3: chocolate;\n",
              "  /* Definition of color scheme for fitted estimators */\n",
              "  --sklearn-color-fitted-level-0: #f0f8ff;\n",
              "  --sklearn-color-fitted-level-1: #d4ebff;\n",
              "  --sklearn-color-fitted-level-2: #b3dbfd;\n",
              "  --sklearn-color-fitted-level-3: cornflowerblue;\n",
              "\n",
              "  /* Specific color for light theme */\n",
              "  --sklearn-color-text-on-default-background: var(--sg-text-color, var(--theme-code-foreground, var(--jp-content-font-color1, black)));\n",
              "  --sklearn-color-background: var(--sg-background-color, var(--theme-background, var(--jp-layout-color0, white)));\n",
              "  --sklearn-color-border-box: var(--sg-text-color, var(--theme-code-foreground, var(--jp-content-font-color1, black)));\n",
              "  --sklearn-color-icon: #696969;\n",
              "\n",
              "  @media (prefers-color-scheme: dark) {\n",
              "    /* Redefinition of color scheme for dark theme */\n",
              "    --sklearn-color-text-on-default-background: var(--sg-text-color, var(--theme-code-foreground, var(--jp-content-font-color1, white)));\n",
              "    --sklearn-color-background: var(--sg-background-color, var(--theme-background, var(--jp-layout-color0, #111)));\n",
              "    --sklearn-color-border-box: var(--sg-text-color, var(--theme-code-foreground, var(--jp-content-font-color1, white)));\n",
              "    --sklearn-color-icon: #878787;\n",
              "  }\n",
              "}\n",
              "\n",
              "#sk-container-id-1 {\n",
              "  color: var(--sklearn-color-text);\n",
              "}\n",
              "\n",
              "#sk-container-id-1 pre {\n",
              "  padding: 0;\n",
              "}\n",
              "\n",
              "#sk-container-id-1 input.sk-hidden--visually {\n",
              "  border: 0;\n",
              "  clip: rect(1px 1px 1px 1px);\n",
              "  clip: rect(1px, 1px, 1px, 1px);\n",
              "  height: 1px;\n",
              "  margin: -1px;\n",
              "  overflow: hidden;\n",
              "  padding: 0;\n",
              "  position: absolute;\n",
              "  width: 1px;\n",
              "}\n",
              "\n",
              "#sk-container-id-1 div.sk-dashed-wrapped {\n",
              "  border: 1px dashed var(--sklearn-color-line);\n",
              "  margin: 0 0.4em 0.5em 0.4em;\n",
              "  box-sizing: border-box;\n",
              "  padding-bottom: 0.4em;\n",
              "  background-color: var(--sklearn-color-background);\n",
              "}\n",
              "\n",
              "#sk-container-id-1 div.sk-container {\n",
              "  /* jupyter's `normalize.less` sets `[hidden] { display: none; }`\n",
              "     but bootstrap.min.css set `[hidden] { display: none !important; }`\n",
              "     so we also need the `!important` here to be able to override the\n",
              "     default hidden behavior on the sphinx rendered scikit-learn.org.\n",
              "     See: https://github.com/scikit-learn/scikit-learn/issues/21755 */\n",
              "  display: inline-block !important;\n",
              "  position: relative;\n",
              "}\n",
              "\n",
              "#sk-container-id-1 div.sk-text-repr-fallback {\n",
              "  display: none;\n",
              "}\n",
              "\n",
              "div.sk-parallel-item,\n",
              "div.sk-serial,\n",
              "div.sk-item {\n",
              "  /* draw centered vertical line to link estimators */\n",
              "  background-image: linear-gradient(var(--sklearn-color-text-on-default-background), var(--sklearn-color-text-on-default-background));\n",
              "  background-size: 2px 100%;\n",
              "  background-repeat: no-repeat;\n",
              "  background-position: center center;\n",
              "}\n",
              "\n",
              "/* Parallel-specific style estimator block */\n",
              "\n",
              "#sk-container-id-1 div.sk-parallel-item::after {\n",
              "  content: \"\";\n",
              "  width: 100%;\n",
              "  border-bottom: 2px solid var(--sklearn-color-text-on-default-background);\n",
              "  flex-grow: 1;\n",
              "}\n",
              "\n",
              "#sk-container-id-1 div.sk-parallel {\n",
              "  display: flex;\n",
              "  align-items: stretch;\n",
              "  justify-content: center;\n",
              "  background-color: var(--sklearn-color-background);\n",
              "  position: relative;\n",
              "}\n",
              "\n",
              "#sk-container-id-1 div.sk-parallel-item {\n",
              "  display: flex;\n",
              "  flex-direction: column;\n",
              "}\n",
              "\n",
              "#sk-container-id-1 div.sk-parallel-item:first-child::after {\n",
              "  align-self: flex-end;\n",
              "  width: 50%;\n",
              "}\n",
              "\n",
              "#sk-container-id-1 div.sk-parallel-item:last-child::after {\n",
              "  align-self: flex-start;\n",
              "  width: 50%;\n",
              "}\n",
              "\n",
              "#sk-container-id-1 div.sk-parallel-item:only-child::after {\n",
              "  width: 0;\n",
              "}\n",
              "\n",
              "/* Serial-specific style estimator block */\n",
              "\n",
              "#sk-container-id-1 div.sk-serial {\n",
              "  display: flex;\n",
              "  flex-direction: column;\n",
              "  align-items: center;\n",
              "  background-color: var(--sklearn-color-background);\n",
              "  padding-right: 1em;\n",
              "  padding-left: 1em;\n",
              "}\n",
              "\n",
              "\n",
              "/* Toggleable style: style used for estimator/Pipeline/ColumnTransformer box that is\n",
              "clickable and can be expanded/collapsed.\n",
              "- Pipeline and ColumnTransformer use this feature and define the default style\n",
              "- Estimators will overwrite some part of the style using the `sk-estimator` class\n",
              "*/\n",
              "\n",
              "/* Pipeline and ColumnTransformer style (default) */\n",
              "\n",
              "#sk-container-id-1 div.sk-toggleable {\n",
              "  /* Default theme specific background. It is overwritten whether we have a\n",
              "  specific estimator or a Pipeline/ColumnTransformer */\n",
              "  background-color: var(--sklearn-color-background);\n",
              "}\n",
              "\n",
              "/* Toggleable label */\n",
              "#sk-container-id-1 label.sk-toggleable__label {\n",
              "  cursor: pointer;\n",
              "  display: block;\n",
              "  width: 100%;\n",
              "  margin-bottom: 0;\n",
              "  padding: 0.5em;\n",
              "  box-sizing: border-box;\n",
              "  text-align: center;\n",
              "}\n",
              "\n",
              "#sk-container-id-1 label.sk-toggleable__label-arrow:before {\n",
              "  /* Arrow on the left of the label */\n",
              "  content: \"▸\";\n",
              "  float: left;\n",
              "  margin-right: 0.25em;\n",
              "  color: var(--sklearn-color-icon);\n",
              "}\n",
              "\n",
              "#sk-container-id-1 label.sk-toggleable__label-arrow:hover:before {\n",
              "  color: var(--sklearn-color-text);\n",
              "}\n",
              "\n",
              "/* Toggleable content - dropdown */\n",
              "\n",
              "#sk-container-id-1 div.sk-toggleable__content {\n",
              "  max-height: 0;\n",
              "  max-width: 0;\n",
              "  overflow: hidden;\n",
              "  text-align: left;\n",
              "  /* unfitted */\n",
              "  background-color: var(--sklearn-color-unfitted-level-0);\n",
              "}\n",
              "\n",
              "#sk-container-id-1 div.sk-toggleable__content.fitted {\n",
              "  /* fitted */\n",
              "  background-color: var(--sklearn-color-fitted-level-0);\n",
              "}\n",
              "\n",
              "#sk-container-id-1 div.sk-toggleable__content pre {\n",
              "  margin: 0.2em;\n",
              "  border-radius: 0.25em;\n",
              "  color: var(--sklearn-color-text);\n",
              "  /* unfitted */\n",
              "  background-color: var(--sklearn-color-unfitted-level-0);\n",
              "}\n",
              "\n",
              "#sk-container-id-1 div.sk-toggleable__content.fitted pre {\n",
              "  /* unfitted */\n",
              "  background-color: var(--sklearn-color-fitted-level-0);\n",
              "}\n",
              "\n",
              "#sk-container-id-1 input.sk-toggleable__control:checked~div.sk-toggleable__content {\n",
              "  /* Expand drop-down */\n",
              "  max-height: 200px;\n",
              "  max-width: 100%;\n",
              "  overflow: auto;\n",
              "}\n",
              "\n",
              "#sk-container-id-1 input.sk-toggleable__control:checked~label.sk-toggleable__label-arrow:before {\n",
              "  content: \"▾\";\n",
              "}\n",
              "\n",
              "/* Pipeline/ColumnTransformer-specific style */\n",
              "\n",
              "#sk-container-id-1 div.sk-label input.sk-toggleable__control:checked~label.sk-toggleable__label {\n",
              "  color: var(--sklearn-color-text);\n",
              "  background-color: var(--sklearn-color-unfitted-level-2);\n",
              "}\n",
              "\n",
              "#sk-container-id-1 div.sk-label.fitted input.sk-toggleable__control:checked~label.sk-toggleable__label {\n",
              "  background-color: var(--sklearn-color-fitted-level-2);\n",
              "}\n",
              "\n",
              "/* Estimator-specific style */\n",
              "\n",
              "/* Colorize estimator box */\n",
              "#sk-container-id-1 div.sk-estimator input.sk-toggleable__control:checked~label.sk-toggleable__label {\n",
              "  /* unfitted */\n",
              "  background-color: var(--sklearn-color-unfitted-level-2);\n",
              "}\n",
              "\n",
              "#sk-container-id-1 div.sk-estimator.fitted input.sk-toggleable__control:checked~label.sk-toggleable__label {\n",
              "  /* fitted */\n",
              "  background-color: var(--sklearn-color-fitted-level-2);\n",
              "}\n",
              "\n",
              "#sk-container-id-1 div.sk-label label.sk-toggleable__label,\n",
              "#sk-container-id-1 div.sk-label label {\n",
              "  /* The background is the default theme color */\n",
              "  color: var(--sklearn-color-text-on-default-background);\n",
              "}\n",
              "\n",
              "/* On hover, darken the color of the background */\n",
              "#sk-container-id-1 div.sk-label:hover label.sk-toggleable__label {\n",
              "  color: var(--sklearn-color-text);\n",
              "  background-color: var(--sklearn-color-unfitted-level-2);\n",
              "}\n",
              "\n",
              "/* Label box, darken color on hover, fitted */\n",
              "#sk-container-id-1 div.sk-label.fitted:hover label.sk-toggleable__label.fitted {\n",
              "  color: var(--sklearn-color-text);\n",
              "  background-color: var(--sklearn-color-fitted-level-2);\n",
              "}\n",
              "\n",
              "/* Estimator label */\n",
              "\n",
              "#sk-container-id-1 div.sk-label label {\n",
              "  font-family: monospace;\n",
              "  font-weight: bold;\n",
              "  display: inline-block;\n",
              "  line-height: 1.2em;\n",
              "}\n",
              "\n",
              "#sk-container-id-1 div.sk-label-container {\n",
              "  text-align: center;\n",
              "}\n",
              "\n",
              "/* Estimator-specific */\n",
              "#sk-container-id-1 div.sk-estimator {\n",
              "  font-family: monospace;\n",
              "  border: 1px dotted var(--sklearn-color-border-box);\n",
              "  border-radius: 0.25em;\n",
              "  box-sizing: border-box;\n",
              "  margin-bottom: 0.5em;\n",
              "  /* unfitted */\n",
              "  background-color: var(--sklearn-color-unfitted-level-0);\n",
              "}\n",
              "\n",
              "#sk-container-id-1 div.sk-estimator.fitted {\n",
              "  /* fitted */\n",
              "  background-color: var(--sklearn-color-fitted-level-0);\n",
              "}\n",
              "\n",
              "/* on hover */\n",
              "#sk-container-id-1 div.sk-estimator:hover {\n",
              "  /* unfitted */\n",
              "  background-color: var(--sklearn-color-unfitted-level-2);\n",
              "}\n",
              "\n",
              "#sk-container-id-1 div.sk-estimator.fitted:hover {\n",
              "  /* fitted */\n",
              "  background-color: var(--sklearn-color-fitted-level-2);\n",
              "}\n",
              "\n",
              "/* Specification for estimator info (e.g. \"i\" and \"?\") */\n",
              "\n",
              "/* Common style for \"i\" and \"?\" */\n",
              "\n",
              ".sk-estimator-doc-link,\n",
              "a:link.sk-estimator-doc-link,\n",
              "a:visited.sk-estimator-doc-link {\n",
              "  float: right;\n",
              "  font-size: smaller;\n",
              "  line-height: 1em;\n",
              "  font-family: monospace;\n",
              "  background-color: var(--sklearn-color-background);\n",
              "  border-radius: 1em;\n",
              "  height: 1em;\n",
              "  width: 1em;\n",
              "  text-decoration: none !important;\n",
              "  margin-left: 1ex;\n",
              "  /* unfitted */\n",
              "  border: var(--sklearn-color-unfitted-level-1) 1pt solid;\n",
              "  color: var(--sklearn-color-unfitted-level-1);\n",
              "}\n",
              "\n",
              ".sk-estimator-doc-link.fitted,\n",
              "a:link.sk-estimator-doc-link.fitted,\n",
              "a:visited.sk-estimator-doc-link.fitted {\n",
              "  /* fitted */\n",
              "  border: var(--sklearn-color-fitted-level-1) 1pt solid;\n",
              "  color: var(--sklearn-color-fitted-level-1);\n",
              "}\n",
              "\n",
              "/* On hover */\n",
              "div.sk-estimator:hover .sk-estimator-doc-link:hover,\n",
              ".sk-estimator-doc-link:hover,\n",
              "div.sk-label-container:hover .sk-estimator-doc-link:hover,\n",
              ".sk-estimator-doc-link:hover {\n",
              "  /* unfitted */\n",
              "  background-color: var(--sklearn-color-unfitted-level-3);\n",
              "  color: var(--sklearn-color-background);\n",
              "  text-decoration: none;\n",
              "}\n",
              "\n",
              "div.sk-estimator.fitted:hover .sk-estimator-doc-link.fitted:hover,\n",
              ".sk-estimator-doc-link.fitted:hover,\n",
              "div.sk-label-container:hover .sk-estimator-doc-link.fitted:hover,\n",
              ".sk-estimator-doc-link.fitted:hover {\n",
              "  /* fitted */\n",
              "  background-color: var(--sklearn-color-fitted-level-3);\n",
              "  color: var(--sklearn-color-background);\n",
              "  text-decoration: none;\n",
              "}\n",
              "\n",
              "/* Span, style for the box shown on hovering the info icon */\n",
              ".sk-estimator-doc-link span {\n",
              "  display: none;\n",
              "  z-index: 9999;\n",
              "  position: relative;\n",
              "  font-weight: normal;\n",
              "  right: .2ex;\n",
              "  padding: .5ex;\n",
              "  margin: .5ex;\n",
              "  width: min-content;\n",
              "  min-width: 20ex;\n",
              "  max-width: 50ex;\n",
              "  color: var(--sklearn-color-text);\n",
              "  box-shadow: 2pt 2pt 4pt #999;\n",
              "  /* unfitted */\n",
              "  background: var(--sklearn-color-unfitted-level-0);\n",
              "  border: .5pt solid var(--sklearn-color-unfitted-level-3);\n",
              "}\n",
              "\n",
              ".sk-estimator-doc-link.fitted span {\n",
              "  /* fitted */\n",
              "  background: var(--sklearn-color-fitted-level-0);\n",
              "  border: var(--sklearn-color-fitted-level-3);\n",
              "}\n",
              "\n",
              ".sk-estimator-doc-link:hover span {\n",
              "  display: block;\n",
              "}\n",
              "\n",
              "/* \"?\"-specific style due to the `<a>` HTML tag */\n",
              "\n",
              "#sk-container-id-1 a.estimator_doc_link {\n",
              "  float: right;\n",
              "  font-size: 1rem;\n",
              "  line-height: 1em;\n",
              "  font-family: monospace;\n",
              "  background-color: var(--sklearn-color-background);\n",
              "  border-radius: 1rem;\n",
              "  height: 1rem;\n",
              "  width: 1rem;\n",
              "  text-decoration: none;\n",
              "  /* unfitted */\n",
              "  color: var(--sklearn-color-unfitted-level-1);\n",
              "  border: var(--sklearn-color-unfitted-level-1) 1pt solid;\n",
              "}\n",
              "\n",
              "#sk-container-id-1 a.estimator_doc_link.fitted {\n",
              "  /* fitted */\n",
              "  border: var(--sklearn-color-fitted-level-1) 1pt solid;\n",
              "  color: var(--sklearn-color-fitted-level-1);\n",
              "}\n",
              "\n",
              "/* On hover */\n",
              "#sk-container-id-1 a.estimator_doc_link:hover {\n",
              "  /* unfitted */\n",
              "  background-color: var(--sklearn-color-unfitted-level-3);\n",
              "  color: var(--sklearn-color-background);\n",
              "  text-decoration: none;\n",
              "}\n",
              "\n",
              "#sk-container-id-1 a.estimator_doc_link.fitted:hover {\n",
              "  /* fitted */\n",
              "  background-color: var(--sklearn-color-fitted-level-3);\n",
              "}\n",
              "</style><div id=\"sk-container-id-1\" class=\"sk-top-container\"><div class=\"sk-text-repr-fallback\"><pre>GridSearchCV(cv=3,\n",
              "             estimator=Pipeline(steps=[(&#x27;pre_pripe&#x27;,\n",
              "                                        ColumnTransformer(transformers=[(&#x27;num&#x27;,\n",
              "                                                                         Pipeline(steps=[(&#x27;imputer&#x27;,\n",
              "                                                                                          SimpleImputer(strategy=&#x27;median&#x27;)),\n",
              "                                                                                         (&#x27;std_scaler&#x27;,\n",
              "                                                                                          StandardScaler())]),\n",
              "                                                                         [&#x27;host_id&#x27;,\n",
              "                                                                          &#x27;id&#x27;,\n",
              "                                                                          &#x27;minimum_nights&#x27;,\n",
              "                                                                          &#x27;latitude&#x27;,\n",
              "                                                                          &#x27;longitude&#x27;,\n",
              "                                                                          &#x27;number_of_reviews&#x27;,\n",
              "                                                                          &#x27;reviews_per_month&#x27;,\n",
              "                                                                          &#x27;calculated_host_listings_count&#x27;,\n",
              "                                                                          &#x27;availability_365&#x27;]),\n",
              "                                                                        (&#x27;cat&#x27;,\n",
              "                                                                         OneHotEncoder(),\n",
              "                                                                         [&#x27;room_type&#x27;,\n",
              "                                                                          &#x27;city&#x27;])])),\n",
              "                                       (&#x27;regressor&#x27;, LinearRegression())]),\n",
              "             param_grid=[{&#x27;regressor&#x27;: [RandomForestRegressor()],\n",
              "                          &#x27;regressor__max_depth&#x27;: [10, 20],\n",
              "                          &#x27;regressor__min_samples_split&#x27;: [5],\n",
              "                          &#x27;regressor__n_estimators&#x27;: [100, 200]}],\n",
              "             scoring=&#x27;neg_mean_squared_error&#x27;)</pre><b>In a Jupyter environment, please rerun this cell to show the HTML representation or trust the notebook. <br />On GitHub, the HTML representation is unable to render, please try loading this page with nbviewer.org.</b></div><div class=\"sk-container\" hidden><div class=\"sk-item sk-dashed-wrapped\"><div class=\"sk-label-container\"><div class=\"sk-label fitted sk-toggleable\"><input class=\"sk-toggleable__control sk-hidden--visually\" id=\"sk-estimator-id-1\" type=\"checkbox\" ><label for=\"sk-estimator-id-1\" class=\"sk-toggleable__label fitted sk-toggleable__label-arrow fitted\">&nbsp;&nbsp;GridSearchCV<a class=\"sk-estimator-doc-link fitted\" rel=\"noreferrer\" target=\"_blank\" href=\"https://scikit-learn.org/1.5/modules/generated/sklearn.model_selection.GridSearchCV.html\">?<span>Documentation for GridSearchCV</span></a><span class=\"sk-estimator-doc-link fitted\">i<span>Fitted</span></span></label><div class=\"sk-toggleable__content fitted\"><pre>GridSearchCV(cv=3,\n",
              "             estimator=Pipeline(steps=[(&#x27;pre_pripe&#x27;,\n",
              "                                        ColumnTransformer(transformers=[(&#x27;num&#x27;,\n",
              "                                                                         Pipeline(steps=[(&#x27;imputer&#x27;,\n",
              "                                                                                          SimpleImputer(strategy=&#x27;median&#x27;)),\n",
              "                                                                                         (&#x27;std_scaler&#x27;,\n",
              "                                                                                          StandardScaler())]),\n",
              "                                                                         [&#x27;host_id&#x27;,\n",
              "                                                                          &#x27;id&#x27;,\n",
              "                                                                          &#x27;minimum_nights&#x27;,\n",
              "                                                                          &#x27;latitude&#x27;,\n",
              "                                                                          &#x27;longitude&#x27;,\n",
              "                                                                          &#x27;number_of_reviews&#x27;,\n",
              "                                                                          &#x27;reviews_per_month&#x27;,\n",
              "                                                                          &#x27;calculated_host_listings_count&#x27;,\n",
              "                                                                          &#x27;availability_365&#x27;]),\n",
              "                                                                        (&#x27;cat&#x27;,\n",
              "                                                                         OneHotEncoder(),\n",
              "                                                                         [&#x27;room_type&#x27;,\n",
              "                                                                          &#x27;city&#x27;])])),\n",
              "                                       (&#x27;regressor&#x27;, LinearRegression())]),\n",
              "             param_grid=[{&#x27;regressor&#x27;: [RandomForestRegressor()],\n",
              "                          &#x27;regressor__max_depth&#x27;: [10, 20],\n",
              "                          &#x27;regressor__min_samples_split&#x27;: [5],\n",
              "                          &#x27;regressor__n_estimators&#x27;: [100, 200]}],\n",
              "             scoring=&#x27;neg_mean_squared_error&#x27;)</pre></div> </div></div><div class=\"sk-parallel\"><div class=\"sk-parallel-item\"><div class=\"sk-item\"><div class=\"sk-label-container\"><div class=\"sk-label fitted sk-toggleable\"><input class=\"sk-toggleable__control sk-hidden--visually\" id=\"sk-estimator-id-2\" type=\"checkbox\" ><label for=\"sk-estimator-id-2\" class=\"sk-toggleable__label fitted sk-toggleable__label-arrow fitted\">best_estimator_: Pipeline</label><div class=\"sk-toggleable__content fitted\"><pre>Pipeline(steps=[(&#x27;pre_pripe&#x27;,\n",
              "                 ColumnTransformer(transformers=[(&#x27;num&#x27;,\n",
              "                                                  Pipeline(steps=[(&#x27;imputer&#x27;,\n",
              "                                                                   SimpleImputer(strategy=&#x27;median&#x27;)),\n",
              "                                                                  (&#x27;std_scaler&#x27;,\n",
              "                                                                   StandardScaler())]),\n",
              "                                                  [&#x27;host_id&#x27;, &#x27;id&#x27;,\n",
              "                                                   &#x27;minimum_nights&#x27;, &#x27;latitude&#x27;,\n",
              "                                                   &#x27;longitude&#x27;,\n",
              "                                                   &#x27;number_of_reviews&#x27;,\n",
              "                                                   &#x27;reviews_per_month&#x27;,\n",
              "                                                   &#x27;calculated_host_listings_count&#x27;,\n",
              "                                                   &#x27;availability_365&#x27;]),\n",
              "                                                 (&#x27;cat&#x27;, OneHotEncoder(),\n",
              "                                                  [&#x27;room_type&#x27;, &#x27;city&#x27;])])),\n",
              "                (&#x27;regressor&#x27;,\n",
              "                 RandomForestRegressor(max_depth=20, min_samples_split=5,\n",
              "                                       n_estimators=200))])</pre></div> </div></div><div class=\"sk-serial\"><div class=\"sk-item\"><div class=\"sk-serial\"><div class=\"sk-item sk-dashed-wrapped\"><div class=\"sk-label-container\"><div class=\"sk-label fitted sk-toggleable\"><input class=\"sk-toggleable__control sk-hidden--visually\" id=\"sk-estimator-id-3\" type=\"checkbox\" ><label for=\"sk-estimator-id-3\" class=\"sk-toggleable__label fitted sk-toggleable__label-arrow fitted\">&nbsp;pre_pripe: ColumnTransformer<a class=\"sk-estimator-doc-link fitted\" rel=\"noreferrer\" target=\"_blank\" href=\"https://scikit-learn.org/1.5/modules/generated/sklearn.compose.ColumnTransformer.html\">?<span>Documentation for pre_pripe: ColumnTransformer</span></a></label><div class=\"sk-toggleable__content fitted\"><pre>ColumnTransformer(transformers=[(&#x27;num&#x27;,\n",
              "                                 Pipeline(steps=[(&#x27;imputer&#x27;,\n",
              "                                                  SimpleImputer(strategy=&#x27;median&#x27;)),\n",
              "                                                 (&#x27;std_scaler&#x27;,\n",
              "                                                  StandardScaler())]),\n",
              "                                 [&#x27;host_id&#x27;, &#x27;id&#x27;, &#x27;minimum_nights&#x27;, &#x27;latitude&#x27;,\n",
              "                                  &#x27;longitude&#x27;, &#x27;number_of_reviews&#x27;,\n",
              "                                  &#x27;reviews_per_month&#x27;,\n",
              "                                  &#x27;calculated_host_listings_count&#x27;,\n",
              "                                  &#x27;availability_365&#x27;]),\n",
              "                                (&#x27;cat&#x27;, OneHotEncoder(),\n",
              "                                 [&#x27;room_type&#x27;, &#x27;city&#x27;])])</pre></div> </div></div><div class=\"sk-parallel\"><div class=\"sk-parallel-item\"><div class=\"sk-item\"><div class=\"sk-label-container\"><div class=\"sk-label fitted sk-toggleable\"><input class=\"sk-toggleable__control sk-hidden--visually\" id=\"sk-estimator-id-4\" type=\"checkbox\" ><label for=\"sk-estimator-id-4\" class=\"sk-toggleable__label fitted sk-toggleable__label-arrow fitted\">num</label><div class=\"sk-toggleable__content fitted\"><pre>[&#x27;host_id&#x27;, &#x27;id&#x27;, &#x27;minimum_nights&#x27;, &#x27;latitude&#x27;, &#x27;longitude&#x27;, &#x27;number_of_reviews&#x27;, &#x27;reviews_per_month&#x27;, &#x27;calculated_host_listings_count&#x27;, &#x27;availability_365&#x27;]</pre></div> </div></div><div class=\"sk-serial\"><div class=\"sk-item\"><div class=\"sk-serial\"><div class=\"sk-item\"><div class=\"sk-estimator fitted sk-toggleable\"><input class=\"sk-toggleable__control sk-hidden--visually\" id=\"sk-estimator-id-5\" type=\"checkbox\" ><label for=\"sk-estimator-id-5\" class=\"sk-toggleable__label fitted sk-toggleable__label-arrow fitted\">&nbsp;SimpleImputer<a class=\"sk-estimator-doc-link fitted\" rel=\"noreferrer\" target=\"_blank\" href=\"https://scikit-learn.org/1.5/modules/generated/sklearn.impute.SimpleImputer.html\">?<span>Documentation for SimpleImputer</span></a></label><div class=\"sk-toggleable__content fitted\"><pre>SimpleImputer(strategy=&#x27;median&#x27;)</pre></div> </div></div><div class=\"sk-item\"><div class=\"sk-estimator fitted sk-toggleable\"><input class=\"sk-toggleable__control sk-hidden--visually\" id=\"sk-estimator-id-6\" type=\"checkbox\" ><label for=\"sk-estimator-id-6\" class=\"sk-toggleable__label fitted sk-toggleable__label-arrow fitted\">&nbsp;StandardScaler<a class=\"sk-estimator-doc-link fitted\" rel=\"noreferrer\" target=\"_blank\" href=\"https://scikit-learn.org/1.5/modules/generated/sklearn.preprocessing.StandardScaler.html\">?<span>Documentation for StandardScaler</span></a></label><div class=\"sk-toggleable__content fitted\"><pre>StandardScaler()</pre></div> </div></div></div></div></div></div></div><div class=\"sk-parallel-item\"><div class=\"sk-item\"><div class=\"sk-label-container\"><div class=\"sk-label fitted sk-toggleable\"><input class=\"sk-toggleable__control sk-hidden--visually\" id=\"sk-estimator-id-7\" type=\"checkbox\" ><label for=\"sk-estimator-id-7\" class=\"sk-toggleable__label fitted sk-toggleable__label-arrow fitted\">cat</label><div class=\"sk-toggleable__content fitted\"><pre>[&#x27;room_type&#x27;, &#x27;city&#x27;]</pre></div> </div></div><div class=\"sk-serial\"><div class=\"sk-item\"><div class=\"sk-estimator fitted sk-toggleable\"><input class=\"sk-toggleable__control sk-hidden--visually\" id=\"sk-estimator-id-8\" type=\"checkbox\" ><label for=\"sk-estimator-id-8\" class=\"sk-toggleable__label fitted sk-toggleable__label-arrow fitted\">&nbsp;OneHotEncoder<a class=\"sk-estimator-doc-link fitted\" rel=\"noreferrer\" target=\"_blank\" href=\"https://scikit-learn.org/1.5/modules/generated/sklearn.preprocessing.OneHotEncoder.html\">?<span>Documentation for OneHotEncoder</span></a></label><div class=\"sk-toggleable__content fitted\"><pre>OneHotEncoder()</pre></div> </div></div></div></div></div></div></div><div class=\"sk-item\"><div class=\"sk-estimator fitted sk-toggleable\"><input class=\"sk-toggleable__control sk-hidden--visually\" id=\"sk-estimator-id-9\" type=\"checkbox\" ><label for=\"sk-estimator-id-9\" class=\"sk-toggleable__label fitted sk-toggleable__label-arrow fitted\">&nbsp;RandomForestRegressor<a class=\"sk-estimator-doc-link fitted\" rel=\"noreferrer\" target=\"_blank\" href=\"https://scikit-learn.org/1.5/modules/generated/sklearn.ensemble.RandomForestRegressor.html\">?<span>Documentation for RandomForestRegressor</span></a></label><div class=\"sk-toggleable__content fitted\"><pre>RandomForestRegressor(max_depth=20, min_samples_split=5, n_estimators=200)</pre></div> </div></div></div></div></div></div></div></div></div></div></div>"
            ]
          },
          "metadata": {},
          "execution_count": 33
        }
      ]
    },
    {
      "cell_type": "markdown",
      "source": [
        "Podemos ver que os melhores parâmetros encontrados foram"
      ],
      "metadata": {
        "id": "ocqMet5ZGgKE"
      }
    },
    {
      "cell_type": "code",
      "source": [
        "print(\"Best parameters:\", grid_search.best_params_)"
      ],
      "metadata": {
        "id": "TsGcahbZ65tr",
        "colab": {
          "base_uri": "https://localhost:8080/"
        },
        "outputId": "da487c87-5925-4d61-ef0b-7674f534bda1"
      },
      "execution_count": null,
      "outputs": [
        {
          "output_type": "stream",
          "name": "stdout",
          "text": [
            "Best parameters: {'regressor': RandomForestRegressor(), 'regressor__max_depth': 20, 'regressor__min_samples_split': 5, 'regressor__n_estimators': 200}\n"
          ]
        }
      ]
    },
    {
      "cell_type": "markdown",
      "source": [
        "Vajamos as features mais importantes"
      ],
      "metadata": {
        "id": "Qjgr-I5A6TvQ"
      }
    },
    {
      "cell_type": "code",
      "source": [
        "feature_importances = grid_search.best_estimator_.named_steps['regressor'].feature_importances_\n",
        "feature_importances"
      ],
      "metadata": {
        "id": "L50ihOZv6SQL",
        "colab": {
          "base_uri": "https://localhost:8080/"
        },
        "outputId": "53266ff9-e08a-4b0c-9e18-3d4537ecfd95"
      },
      "execution_count": null,
      "outputs": [
        {
          "output_type": "execute_result",
          "data": {
            "text/plain": [
              "array([1.14888156e-01, 1.34210831e-01, 5.29084278e-02, 1.27897947e-01,\n",
              "       2.08702636e-01, 2.71405069e-02, 1.68288634e-02, 1.47502244e-01,\n",
              "       9.52149579e-02, 1.98237774e-02, 1.11301890e-03, 1.06356068e-03,\n",
              "       1.22024823e-03, 6.58044758e-04, 4.99055432e-03, 2.30482532e-05,\n",
              "       1.69917643e-03, 4.81590132e-05, 3.99049288e-03, 9.85824170e-04,\n",
              "       1.98462917e-03, 2.59875294e-04, 8.02532579e-04, 6.54280111e-05,\n",
              "       1.73698230e-03, 4.30004910e-04, 2.06995410e-04, 1.26597528e-03,\n",
              "       3.48814073e-04, 2.83913429e-05, 1.38737838e-04, 7.06836533e-04,\n",
              "       8.46571707e-05, 8.14990165e-04, 5.32600521e-03, 3.41050991e-03,\n",
              "       1.94968287e-04, 1.73549270e-04, 3.35743314e-04, 2.00437205e-02,\n",
              "       7.30178201e-04])"
            ]
          },
          "metadata": {},
          "execution_count": 36
        }
      ]
    },
    {
      "cell_type": "markdown",
      "source": [
        "Quem sabe podemos retirar algumas features com essa informação. Com isso podemos finalmente ver como o modelo prevê o dados no conjunto de teste"
      ],
      "metadata": {
        "id": "CbAL9IQAdAAK"
      }
    },
    {
      "cell_type": "markdown",
      "source": [
        "# Teste final"
      ],
      "metadata": {
        "id": "C_DNJCsteKXb"
      }
    },
    {
      "cell_type": "markdown",
      "source": [
        "Finalmente podemos utilizar o nosso conjunto de teste para ver o quão bom é a generalização do método escolhido"
      ],
      "metadata": {
        "id": "VVNlla4afdN6"
      }
    },
    {
      "cell_type": "code",
      "source": [
        "from sklearn.metrics import mean_absolute_error\n",
        "best_forest_reg = grid_search.best_estimator_\n",
        "\n",
        "X_test = test_set.drop(\"price\", axis=1)\n",
        "y_test = test_set[\"price\"].copy()\n",
        "\n",
        "X_test_prepared = full_pipeline.transform(X_test)\n",
        "price_predictions = best_forest_reg.predict(X_test)\n",
        "\n",
        "final_mse = MSE(y_test, price_predictions)\n",
        "final_mae = mean_absolute_error(y_test, price_predictions)\n",
        "final_rmse = np.sqrt(final_mse)\n",
        "\n",
        "\n",
        "print(f'Mean Squared Error: {464.181483837702}')\n",
        "print(f'Mean Absolute Error: {124.24614910767247}')"
      ],
      "metadata": {
        "id": "BeoqeFrtfwNq",
        "colab": {
          "base_uri": "https://localhost:8080/"
        },
        "outputId": "66eb6b7d-ad89-44f4-c689-ffe97e35bcb5"
      },
      "execution_count": 2,
      "outputs": [
        {
          "output_type": "stream",
          "name": "stdout",
          "text": [
            "Mean Squared Error: 464.181483837702\n",
            "Mean Absolute Error: 124.24614910767247\n"
          ]
        }
      ]
    },
    {
      "cell_type": "markdown",
      "source": [
        "Ainda assim obtemos um erro alto, ou seja, os modelos tem uma deficuldade em generalisar este tipo de problema. Podemos mais tarde utilizar outras estratégias para melhorar a performance dos métodos.\n",
        "\n",
        "Podemos ver como o método se comporta para prever 15 preços de Airbnb"
      ],
      "metadata": {
        "id": "v3s1JxAhNPPW"
      }
    },
    {
      "cell_type": "code",
      "source": [
        "some_data = X_test.iloc[100:115]\n",
        "some_labels = y_test.iloc[100:115]\n",
        "#some_data_prepared = full_pipeline.transform(some_data) #Full pipeline\n",
        "print(\"Predictions:\", grid_search.predict(some_data))\n"
      ],
      "metadata": {
        "colab": {
          "base_uri": "https://localhost:8080/"
        },
        "id": "M8utP5ZYrsSe",
        "outputId": "0bf76f6e-f38c-44f0-f73d-64f2618a64a5"
      },
      "execution_count": null,
      "outputs": [
        {
          "output_type": "stream",
          "name": "stdout",
          "text": [
            "Predictions: [133.6877457   90.63186193 248.05159066 345.80330601  76.40263648\n",
            "  67.81675423 208.71323248 241.42808004 409.52265691 158.80554918\n",
            " 195.07963209 218.38634011  90.9784287  124.65366033 190.52955747]\n"
          ]
        }
      ]
    },
    {
      "cell_type": "code",
      "source": [
        "print(\"Labels:\", list(some_labels))"
      ],
      "metadata": {
        "colab": {
          "base_uri": "https://localhost:8080/"
        },
        "id": "xPSBqKMLrugr",
        "outputId": "79ecc5c7-e4f9-4c40-8f47-2c160131a1ae"
      },
      "execution_count": null,
      "outputs": [
        {
          "output_type": "stream",
          "name": "stdout",
          "text": [
            "Labels: [300, 115, 86, 400, 166, 59, 175, 88, 489, 64, 400, 225, 70, 165, 85]\n"
          ]
        }
      ]
    },
    {
      "cell_type": "markdown",
      "source": [
        "Alguns dos preços a previsão é boa, já outros erram muito. Comprovando a dificuldade de previsão."
      ],
      "metadata": {
        "id": "f-rutirOsxVq"
      }
    }
  ]
}